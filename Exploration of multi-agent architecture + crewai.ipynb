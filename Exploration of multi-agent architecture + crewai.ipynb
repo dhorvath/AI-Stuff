{
  "nbformat": 4,
  "nbformat_minor": 0,
  "metadata": {
    "colab": {
      "provenance": [],
      "include_colab_link": true
    },
    "kernelspec": {
      "name": "python3",
      "display_name": "Python 3"
    },
    "language_info": {
      "name": "python"
    }
  },
  "cells": [
    {
      "cell_type": "markdown",
      "metadata": {
        "id": "view-in-github",
        "colab_type": "text"
      },
      "source": [
        "<a href=\"https://colab.research.google.com/github/dhorvath/AI-Stuff/blob/main/Exploration%20of%20multi-agent%20architecture%20%2B%20crewai.ipynb\" target=\"_parent\"><img src=\"https://colab.research.google.com/assets/colab-badge.svg\" alt=\"Open In Colab\"/></a>"
      ]
    },
    {
      "cell_type": "markdown",
      "source": [
        "### Installs & setup\n"
      ],
      "metadata": {
        "id": "HV1DyBd2RHrN"
      }
    },
    {
      "cell_type": "code",
      "source": [
        "!pip install --q crewai\n",
        "!pip install --q crewai_tools\n",
        "!pip install --q -U duckduckgo-search\n",
        "!pip install openai\n",
        "!pip install langchain\n",
        "!pip install langchain-openai"
      ],
      "metadata": {
        "id": "xOj-BuKARJrH",
        "outputId": "ba6be1ed-caf3-4d57-fba6-e1c1eba66633",
        "colab": {
          "base_uri": "https://localhost:8080/"
        },
        "collapsed": true
      },
      "execution_count": null,
      "outputs": [
        {
          "output_type": "stream",
          "name": "stdout",
          "text": [
            "  Preparing metadata (setup.py) ... \u001b[?25l\u001b[?25hdone\n",
            "\u001b[2K   \u001b[90m━━━━━━━━━━━━━━━━━━━━━━━━━━━━━━━━━━━━━━━━\u001b[0m \u001b[32m462.7/462.7 kB\u001b[0m \u001b[31m8.3 MB/s\u001b[0m eta \u001b[36m0:00:00\u001b[0m\n",
            "\u001b[2K   \u001b[90m━━━━━━━━━━━━━━━━━━━━━━━━━━━━━━━━━━━━━━━━\u001b[0m \u001b[32m147.8/147.8 kB\u001b[0m \u001b[31m8.5 MB/s\u001b[0m eta \u001b[36m0:00:00\u001b[0m\n",
            "\u001b[2K   \u001b[90m━━━━━━━━━━━━━━━━━━━━━━━━━━━━━━━━━━━━━━━━\u001b[0m \u001b[32m115.1/115.1 kB\u001b[0m \u001b[31m7.4 MB/s\u001b[0m eta \u001b[36m0:00:00\u001b[0m\n",
            "\u001b[2K   \u001b[90m━━━━━━━━━━━━━━━━━━━━━━━━━━━━━━━━━━━━━━━━\u001b[0m \u001b[32m21.6/21.6 MB\u001b[0m \u001b[31m58.7 MB/s\u001b[0m eta \u001b[36m0:00:00\u001b[0m\n",
            "\u001b[2K   \u001b[90m━━━━━━━━━━━━━━━━━━━━━━━━━━━━━━━━━━━━━━━━\u001b[0m \u001b[32m341.8/341.8 kB\u001b[0m \u001b[31m17.3 MB/s\u001b[0m eta \u001b[36m0:00:00\u001b[0m\n",
            "\u001b[2K   \u001b[90m━━━━━━━━━━━━━━━━━━━━━━━━━━━━━━━━━━━━━━━━\u001b[0m \u001b[32m57.6/57.6 kB\u001b[0m \u001b[31m3.1 MB/s\u001b[0m eta \u001b[36m0:00:00\u001b[0m\n",
            "\u001b[2K   \u001b[90m━━━━━━━━━━━━━━━━━━━━━━━━━━━━━━━━━━━━━━━━\u001b[0m \u001b[32m9.4/9.4 MB\u001b[0m \u001b[31m71.4 MB/s\u001b[0m eta \u001b[36m0:00:00\u001b[0m\n",
            "\u001b[2K   \u001b[90m━━━━━━━━━━━━━━━━━━━━━━━━━━━━━━━━━━━━━━━━\u001b[0m \u001b[32m476.0/476.0 kB\u001b[0m \u001b[31m24.0 MB/s\u001b[0m eta \u001b[36m0:00:00\u001b[0m\n",
            "\u001b[2K   \u001b[90m━━━━━━━━━━━━━━━━━━━━━━━━━━━━━━━━━━━━━━━━\u001b[0m \u001b[32m98.7/98.7 kB\u001b[0m \u001b[31m5.7 MB/s\u001b[0m eta \u001b[36m0:00:00\u001b[0m\n",
            "\u001b[?25h  Building wheel for docx2txt (setup.py) ... \u001b[?25l\u001b[?25hdone\n",
            "Requirement already satisfied: openai in /usr/local/lib/python3.10/dist-packages (1.42.0)\n",
            "Requirement already satisfied: anyio<5,>=3.5.0 in /usr/local/lib/python3.10/dist-packages (from openai) (3.7.1)\n",
            "Requirement already satisfied: distro<2,>=1.7.0 in /usr/lib/python3/dist-packages (from openai) (1.7.0)\n",
            "Requirement already satisfied: httpx<1,>=0.23.0 in /usr/local/lib/python3.10/dist-packages (from openai) (0.27.0)\n",
            "Requirement already satisfied: jiter<1,>=0.4.0 in /usr/local/lib/python3.10/dist-packages (from openai) (0.4.2)\n",
            "Requirement already satisfied: pydantic<3,>=1.9.0 in /usr/local/lib/python3.10/dist-packages (from openai) (2.8.2)\n",
            "Requirement already satisfied: sniffio in /usr/local/lib/python3.10/dist-packages (from openai) (1.3.1)\n",
            "Requirement already satisfied: tqdm>4 in /usr/local/lib/python3.10/dist-packages (from openai) (4.66.5)\n",
            "Requirement already satisfied: typing-extensions<5,>=4.11 in /usr/local/lib/python3.10/dist-packages (from openai) (4.12.2)\n",
            "Requirement already satisfied: idna>=2.8 in /usr/local/lib/python3.10/dist-packages (from anyio<5,>=3.5.0->openai) (3.7)\n",
            "Requirement already satisfied: exceptiongroup in /usr/local/lib/python3.10/dist-packages (from anyio<5,>=3.5.0->openai) (1.2.2)\n",
            "Requirement already satisfied: certifi in /usr/local/lib/python3.10/dist-packages (from httpx<1,>=0.23.0->openai) (2024.7.4)\n",
            "Requirement already satisfied: httpcore==1.* in /usr/local/lib/python3.10/dist-packages (from httpx<1,>=0.23.0->openai) (1.0.5)\n",
            "Requirement already satisfied: h11<0.15,>=0.13 in /usr/local/lib/python3.10/dist-packages (from httpcore==1.*->httpx<1,>=0.23.0->openai) (0.14.0)\n",
            "Requirement already satisfied: annotated-types>=0.4.0 in /usr/local/lib/python3.10/dist-packages (from pydantic<3,>=1.9.0->openai) (0.7.0)\n",
            "Requirement already satisfied: pydantic-core==2.20.1 in /usr/local/lib/python3.10/dist-packages (from pydantic<3,>=1.9.0->openai) (2.20.1)\n",
            "Requirement already satisfied: langchain in /usr/local/lib/python3.10/dist-packages (0.2.14)\n",
            "Requirement already satisfied: PyYAML>=5.3 in /usr/local/lib/python3.10/dist-packages (from langchain) (6.0.2)\n",
            "Requirement already satisfied: SQLAlchemy<3,>=1.4 in /usr/local/lib/python3.10/dist-packages (from langchain) (2.0.32)\n",
            "Requirement already satisfied: aiohttp<4.0.0,>=3.8.3 in /usr/local/lib/python3.10/dist-packages (from langchain) (3.10.3)\n",
            "Requirement already satisfied: async-timeout<5.0.0,>=4.0.0 in /usr/local/lib/python3.10/dist-packages (from langchain) (4.0.3)\n",
            "Requirement already satisfied: langchain-core<0.3.0,>=0.2.32 in /usr/local/lib/python3.10/dist-packages (from langchain) (0.2.33)\n",
            "Requirement already satisfied: langchain-text-splitters<0.3.0,>=0.2.0 in /usr/local/lib/python3.10/dist-packages (from langchain) (0.2.2)\n",
            "Requirement already satisfied: langsmith<0.2.0,>=0.1.17 in /usr/local/lib/python3.10/dist-packages (from langchain) (0.1.100)\n",
            "Requirement already satisfied: numpy<2,>=1 in /usr/local/lib/python3.10/dist-packages (from langchain) (1.26.4)\n",
            "Requirement already satisfied: pydantic<3,>=1 in /usr/local/lib/python3.10/dist-packages (from langchain) (2.8.2)\n",
            "Requirement already satisfied: requests<3,>=2 in /usr/local/lib/python3.10/dist-packages (from langchain) (2.32.3)\n",
            "Requirement already satisfied: tenacity!=8.4.0,<9.0.0,>=8.1.0 in /usr/local/lib/python3.10/dist-packages (from langchain) (8.5.0)\n",
            "Requirement already satisfied: aiohappyeyeballs>=2.3.0 in /usr/local/lib/python3.10/dist-packages (from aiohttp<4.0.0,>=3.8.3->langchain) (2.3.5)\n",
            "Requirement already satisfied: aiosignal>=1.1.2 in /usr/local/lib/python3.10/dist-packages (from aiohttp<4.0.0,>=3.8.3->langchain) (1.3.1)\n",
            "Requirement already satisfied: attrs>=17.3.0 in /usr/local/lib/python3.10/dist-packages (from aiohttp<4.0.0,>=3.8.3->langchain) (24.2.0)\n",
            "Requirement already satisfied: frozenlist>=1.1.1 in /usr/local/lib/python3.10/dist-packages (from aiohttp<4.0.0,>=3.8.3->langchain) (1.4.1)\n",
            "Requirement already satisfied: multidict<7.0,>=4.5 in /usr/local/lib/python3.10/dist-packages (from aiohttp<4.0.0,>=3.8.3->langchain) (6.0.5)\n",
            "Requirement already satisfied: yarl<2.0,>=1.0 in /usr/local/lib/python3.10/dist-packages (from aiohttp<4.0.0,>=3.8.3->langchain) (1.9.4)\n",
            "Requirement already satisfied: jsonpatch<2.0,>=1.33 in /usr/local/lib/python3.10/dist-packages (from langchain-core<0.3.0,>=0.2.32->langchain) (1.33)\n",
            "Requirement already satisfied: packaging<25,>=23.2 in /usr/local/lib/python3.10/dist-packages (from langchain-core<0.3.0,>=0.2.32->langchain) (24.1)\n",
            "Requirement already satisfied: typing-extensions>=4.7 in /usr/local/lib/python3.10/dist-packages (from langchain-core<0.3.0,>=0.2.32->langchain) (4.12.2)\n",
            "Requirement already satisfied: httpx<1,>=0.23.0 in /usr/local/lib/python3.10/dist-packages (from langsmith<0.2.0,>=0.1.17->langchain) (0.27.0)\n",
            "Requirement already satisfied: orjson<4.0.0,>=3.9.14 in /usr/local/lib/python3.10/dist-packages (from langsmith<0.2.0,>=0.1.17->langchain) (3.10.7)\n",
            "Requirement already satisfied: annotated-types>=0.4.0 in /usr/local/lib/python3.10/dist-packages (from pydantic<3,>=1->langchain) (0.7.0)\n",
            "Requirement already satisfied: pydantic-core==2.20.1 in /usr/local/lib/python3.10/dist-packages (from pydantic<3,>=1->langchain) (2.20.1)\n",
            "Requirement already satisfied: charset-normalizer<4,>=2 in /usr/local/lib/python3.10/dist-packages (from requests<3,>=2->langchain) (3.3.2)\n",
            "Requirement already satisfied: idna<4,>=2.5 in /usr/local/lib/python3.10/dist-packages (from requests<3,>=2->langchain) (3.7)\n",
            "Requirement already satisfied: urllib3<3,>=1.21.1 in /usr/local/lib/python3.10/dist-packages (from requests<3,>=2->langchain) (2.0.7)\n",
            "Requirement already satisfied: certifi>=2017.4.17 in /usr/local/lib/python3.10/dist-packages (from requests<3,>=2->langchain) (2024.7.4)\n",
            "Requirement already satisfied: greenlet!=0.4.17 in /usr/local/lib/python3.10/dist-packages (from SQLAlchemy<3,>=1.4->langchain) (3.0.3)\n",
            "Requirement already satisfied: anyio in /usr/local/lib/python3.10/dist-packages (from httpx<1,>=0.23.0->langsmith<0.2.0,>=0.1.17->langchain) (3.7.1)\n",
            "Requirement already satisfied: httpcore==1.* in /usr/local/lib/python3.10/dist-packages (from httpx<1,>=0.23.0->langsmith<0.2.0,>=0.1.17->langchain) (1.0.5)\n",
            "Requirement already satisfied: sniffio in /usr/local/lib/python3.10/dist-packages (from httpx<1,>=0.23.0->langsmith<0.2.0,>=0.1.17->langchain) (1.3.1)\n",
            "Requirement already satisfied: h11<0.15,>=0.13 in /usr/local/lib/python3.10/dist-packages (from httpcore==1.*->httpx<1,>=0.23.0->langsmith<0.2.0,>=0.1.17->langchain) (0.14.0)\n",
            "Requirement already satisfied: jsonpointer>=1.9 in /usr/local/lib/python3.10/dist-packages (from jsonpatch<2.0,>=1.33->langchain-core<0.3.0,>=0.2.32->langchain) (3.0.0)\n",
            "Requirement already satisfied: exceptiongroup in /usr/local/lib/python3.10/dist-packages (from anyio->httpx<1,>=0.23.0->langsmith<0.2.0,>=0.1.17->langchain) (1.2.2)\n",
            "Requirement already satisfied: langchain-openai in /usr/local/lib/python3.10/dist-packages (0.1.22)\n",
            "Requirement already satisfied: langchain-core<0.3.0,>=0.2.33 in /usr/local/lib/python3.10/dist-packages (from langchain-openai) (0.2.33)\n",
            "Requirement already satisfied: openai<2.0.0,>=1.40.0 in /usr/local/lib/python3.10/dist-packages (from langchain-openai) (1.42.0)\n",
            "Requirement already satisfied: tiktoken<1,>=0.7 in /usr/local/lib/python3.10/dist-packages (from langchain-openai) (0.7.0)\n",
            "Requirement already satisfied: PyYAML>=5.3 in /usr/local/lib/python3.10/dist-packages (from langchain-core<0.3.0,>=0.2.33->langchain-openai) (6.0.2)\n",
            "Requirement already satisfied: jsonpatch<2.0,>=1.33 in /usr/local/lib/python3.10/dist-packages (from langchain-core<0.3.0,>=0.2.33->langchain-openai) (1.33)\n",
            "Requirement already satisfied: langsmith<0.2.0,>=0.1.75 in /usr/local/lib/python3.10/dist-packages (from langchain-core<0.3.0,>=0.2.33->langchain-openai) (0.1.100)\n",
            "Requirement already satisfied: packaging<25,>=23.2 in /usr/local/lib/python3.10/dist-packages (from langchain-core<0.3.0,>=0.2.33->langchain-openai) (24.1)\n",
            "Requirement already satisfied: pydantic<3,>=1 in /usr/local/lib/python3.10/dist-packages (from langchain-core<0.3.0,>=0.2.33->langchain-openai) (2.8.2)\n",
            "Requirement already satisfied: tenacity!=8.4.0,<9.0.0,>=8.1.0 in /usr/local/lib/python3.10/dist-packages (from langchain-core<0.3.0,>=0.2.33->langchain-openai) (8.5.0)\n",
            "Requirement already satisfied: typing-extensions>=4.7 in /usr/local/lib/python3.10/dist-packages (from langchain-core<0.3.0,>=0.2.33->langchain-openai) (4.12.2)\n",
            "Requirement already satisfied: anyio<5,>=3.5.0 in /usr/local/lib/python3.10/dist-packages (from openai<2.0.0,>=1.40.0->langchain-openai) (3.7.1)\n",
            "Requirement already satisfied: distro<2,>=1.7.0 in /usr/lib/python3/dist-packages (from openai<2.0.0,>=1.40.0->langchain-openai) (1.7.0)\n",
            "Requirement already satisfied: httpx<1,>=0.23.0 in /usr/local/lib/python3.10/dist-packages (from openai<2.0.0,>=1.40.0->langchain-openai) (0.27.0)\n",
            "Requirement already satisfied: jiter<1,>=0.4.0 in /usr/local/lib/python3.10/dist-packages (from openai<2.0.0,>=1.40.0->langchain-openai) (0.4.2)\n",
            "Requirement already satisfied: sniffio in /usr/local/lib/python3.10/dist-packages (from openai<2.0.0,>=1.40.0->langchain-openai) (1.3.1)\n",
            "Requirement already satisfied: tqdm>4 in /usr/local/lib/python3.10/dist-packages (from openai<2.0.0,>=1.40.0->langchain-openai) (4.66.5)\n",
            "Requirement already satisfied: regex>=2022.1.18 in /usr/local/lib/python3.10/dist-packages (from tiktoken<1,>=0.7->langchain-openai) (2023.12.25)\n",
            "Requirement already satisfied: requests>=2.26.0 in /usr/local/lib/python3.10/dist-packages (from tiktoken<1,>=0.7->langchain-openai) (2.32.3)\n",
            "Requirement already satisfied: idna>=2.8 in /usr/local/lib/python3.10/dist-packages (from anyio<5,>=3.5.0->openai<2.0.0,>=1.40.0->langchain-openai) (3.7)\n",
            "Requirement already satisfied: exceptiongroup in /usr/local/lib/python3.10/dist-packages (from anyio<5,>=3.5.0->openai<2.0.0,>=1.40.0->langchain-openai) (1.2.2)\n",
            "Requirement already satisfied: certifi in /usr/local/lib/python3.10/dist-packages (from httpx<1,>=0.23.0->openai<2.0.0,>=1.40.0->langchain-openai) (2024.7.4)\n",
            "Requirement already satisfied: httpcore==1.* in /usr/local/lib/python3.10/dist-packages (from httpx<1,>=0.23.0->openai<2.0.0,>=1.40.0->langchain-openai) (1.0.5)\n",
            "Requirement already satisfied: h11<0.15,>=0.13 in /usr/local/lib/python3.10/dist-packages (from httpcore==1.*->httpx<1,>=0.23.0->openai<2.0.0,>=1.40.0->langchain-openai) (0.14.0)\n",
            "Requirement already satisfied: jsonpointer>=1.9 in /usr/local/lib/python3.10/dist-packages (from jsonpatch<2.0,>=1.33->langchain-core<0.3.0,>=0.2.33->langchain-openai) (3.0.0)\n",
            "Requirement already satisfied: orjson<4.0.0,>=3.9.14 in /usr/local/lib/python3.10/dist-packages (from langsmith<0.2.0,>=0.1.75->langchain-core<0.3.0,>=0.2.33->langchain-openai) (3.10.7)\n",
            "Requirement already satisfied: annotated-types>=0.4.0 in /usr/local/lib/python3.10/dist-packages (from pydantic<3,>=1->langchain-core<0.3.0,>=0.2.33->langchain-openai) (0.7.0)\n",
            "Requirement already satisfied: pydantic-core==2.20.1 in /usr/local/lib/python3.10/dist-packages (from pydantic<3,>=1->langchain-core<0.3.0,>=0.2.33->langchain-openai) (2.20.1)\n",
            "Requirement already satisfied: charset-normalizer<4,>=2 in /usr/local/lib/python3.10/dist-packages (from requests>=2.26.0->tiktoken<1,>=0.7->langchain-openai) (3.3.2)\n",
            "Requirement already satisfied: urllib3<3,>=1.21.1 in /usr/local/lib/python3.10/dist-packages (from requests>=2.26.0->tiktoken<1,>=0.7->langchain-openai) (2.0.7)\n"
          ]
        }
      ]
    },
    {
      "cell_type": "code",
      "source": [
        "# More setup\n",
        "import os\n",
        "from openai import OpenAI\n",
        "from google.colab import userdata\n",
        "import langchain\n",
        "from langchain_openai import OpenAI\n",
        "from crewai import Agent, Task, Crew, Process\n",
        "from google.colab import userdata"
      ],
      "metadata": {
        "id": "RcT5kYt1UlPc"
      },
      "execution_count": null,
      "outputs": []
    },
    {
      "cell_type": "code",
      "source": [
        "# API\n",
        "open_ai_key = userdata.get('open_ai_key')\n",
        "client = OpenAI(api_key=open_ai_key)\n",
        "\n",
        "os.environ[\"OPENAI_API_KEY\"] = open_ai_key"
      ],
      "metadata": {
        "id": "Ax5-d2lHj3uQ"
      },
      "execution_count": null,
      "outputs": []
    },
    {
      "cell_type": "code",
      "source": [
        "# AI setup\n",
        "llm = OpenAI(temperature=0.1, model_name=\"gpt-4-turbo-preview\", api_key=open_ai_key)"
      ],
      "metadata": {
        "id": "0JoMYVC5j5uE"
      },
      "execution_count": null,
      "outputs": []
    },
    {
      "cell_type": "code",
      "source": [
        "#Tools\n",
        "from langchain.tools import DuckDuckGoSearchRun\n",
        "search_tool = DuckDuckGoSearchRun()"
      ],
      "metadata": {
        "id": "KCbY78smXS2Z"
      },
      "execution_count": null,
      "outputs": []
    },
    {
      "cell_type": "markdown",
      "source": [
        "# CrewAI - Heirarchical Political Campaign Crew\n"
      ],
      "metadata": {
        "id": "7s-x3rbEQg30"
      }
    },
    {
      "cell_type": "code",
      "source": [
        "goal = \"The date is September 1, 2024. Devise a comprehensive strategy for the last 2 months of campaign to re-elect London Breed to mayor of San Francisco California in 2024.\""
      ],
      "metadata": {
        "id": "8Ng517YJWrRR"
      },
      "execution_count": null,
      "outputs": []
    },
    {
      "cell_type": "code",
      "source": [
        "import os\n",
        "from crewai import Agent, Task, Crew, Process\n",
        "\n",
        "# Define your agents with roles and goals\n",
        "field_director = Agent(\n",
        "  role='Field Director. You organize and oversee grassroots operations including canvassing, phone banking, and volunteer mobilization.',\n",
        "  goal=f'Your goal is to engage directly with voters and maximize voter outreach and turnout.',\n",
        "  backstory='You have experience in grassroots organizing, sociology, or related fields.',\n",
        "  verbose=True,\n",
        "  allow_delegation=True,\n",
        "  llm = llm,\n",
        "  tools=[\n",
        "        search_tool\n",
        "      ]\n",
        ")\n",
        "\n",
        "finance_director = Agent(\n",
        "  role='Finance Director. You manage fundraising operations, budgeting, and financial reporting.',\n",
        "  goal='Your goal is to to secure sufficient funding to support campaign activities and reach financial goals.',\n",
        "  backstory='You are experienced in finance, fundraising, or economics esepcially with regards to political campaigns',\n",
        "  verbose=True,\n",
        "  allow_delegation=False,\n",
        "  llm = llm,\n",
        "  tools=[]\n",
        ")\n",
        "\n",
        "communications_director = Agent(\n",
        "  role='Communications Director. You handles all aspects of media relations, press releases, and public messaging.',\n",
        "  goal=f'Your goal is to shape public perception and effectively communicate the candidate’s message and policies in order to achieve {goal}',\n",
        "  backstory='You have a background in media communications and used to run public relations for Uber.',\n",
        "  verbose=True,\n",
        "  allow_delegation=False,\n",
        "  llm = llm,\n",
        "  tools=[]\n",
        ")\n",
        "\n",
        "# Define your task\n",
        "task = Task(\n",
        "    description=f\"Conduct a comprehensive research analysis and put a plan together to achieve: {goal}.\",\n",
        "    expected_output=\"A concise document which outlines the strategy for the last 2 months of the campaign along with a detailed week-by-week agenda.\",\n",
        ")\n",
        "\n",
        "# Define the manager agent\n",
        "campaign_manager = Agent(\n",
        "    role=\"Campaign Manager. You oversees all campaign operations including staff, strategy, and daily activities.\",\n",
        "    goal=\"Your goal is to ensure the campaign operates smoothly and efficiently, aligning all efforts to achieve {goal}.\",\n",
        "    backstory=\"You have a masters in Politcal Science and Public Policy from Harvard. You are an expert campaign manager who previously ran London Breeds last mayoral campaign to victory. You have an IQ of 125.\",\n",
        "    allow_delegation=True,\n",
        ")\n",
        "\n",
        "# Instantiate your crew with a custom manager\n",
        "crew = Crew(\n",
        "    agents=[field_director, finance_director, communications_director],\n",
        "    tasks=[task],\n",
        "    manager_agent=campaign_manager,\n",
        "    process=Process.hierarchical,\n",
        ")\n",
        "\n",
        "# Start the crew's work\n",
        "result = crew.kickoff()"
      ],
      "metadata": {
        "colab": {
          "base_uri": "https://localhost:8080/"
        },
        "id": "FZCjAUChtLKL",
        "outputId": "43abd62d-9c74-4b2c-f5fe-0e49ebac592d"
      },
      "execution_count": null,
      "outputs": [
        {
          "output_type": "stream",
          "name": "stderr",
          "text": [
            "WARNING:opentelemetry.trace:Overriding of current TracerProvider is not allowed\n"
          ]
        },
        {
          "output_type": "stream",
          "name": "stdout",
          "text": [
            "\n",
            "\n",
            "\u001b[1m> Entering new CrewAgentExecutor chain...\u001b[0m\n",
            "\u001b[32;1m\u001b[1;3m\u001b[0m\n",
            "\n",
            "\u001b[1m> Finished chain.\u001b[0m\n",
            "\n",
            "\n",
            "\u001b[1m> Entering new CrewAgentExecutor chain...\u001b[0m\n",
            "\u001b[32;1m\u001b[1;3m\u001b[0m\n",
            "\n",
            "\u001b[1m> Finished chain.\u001b[0m\n"
          ]
        }
      ]
    },
    {
      "cell_type": "markdown",
      "source": [
        "# Results"
      ],
      "metadata": {
        "id": "H7EbybC2kM0u"
      }
    },
    {
      "cell_type": "code",
      "source": [
        "from IPython.display import display, Markdown\n",
        "display(Markdown(result.raw))"
      ],
      "metadata": {
        "colab": {
          "base_uri": "https://localhost:8080/",
          "height": 1000
        },
        "id": "Q7VI8mLQRhfX",
        "outputId": "8c83a6a7-36a5-49fa-b56f-8b84bb79bcbd"
      },
      "execution_count": null,
      "outputs": [
        {
          "output_type": "display_data",
          "data": {
            "text/plain": [
              "<IPython.core.display.Markdown object>"
            ],
            "text/markdown": "### Comprehensive Strategy for the Last 2 Months of the Campaign to Re-elect London Breed as Mayor of San Francisco (September 1, 2024 - November 1, 2024)\n\n#### **Overall Goal:**\nTo ensure maximum voter engagement and turnout, solidify Mayor London Breed's re-election campaign, and secure her victory in November 2024.\n\n---\n\n### **Week-by-Week Agenda**\n\n#### **September 1 - 7:**\n\n**Grassroots Operations:**\n- Launch an intensive canvassing drive targeting key neighborhoods.\n- Mobilize volunteers for phone banking, focusing on high-priority voter demographics.\n- Host community events to engage with constituents and address their concerns.\n\n**Fundraising:**\n- Organize high-profile fundraising events to boost campaign funds.\n- Initiate online fundraising campaigns using social media and email outreach.\n- Set weekly fundraising targets and monitor progress to ensure goals are met.\n\n**Communications:**\n- Release a press statement highlighting Mayor Breed's achievements and upcoming campaign activities.\n- Schedule interviews with local media to discuss campaign strategies and key issues.\n- Develop social media content calendar to maintain a strong online presence.\n\n---\n\n#### **September 8 - 14:**\n\n**Grassroots Operations:**\n- Continue canvassing efforts, focusing on areas with lower voter turnout in previous elections.\n- Begin distributing campaign materials such as flyers, posters, and yard signs.\n- Organize volunteer training sessions to improve canvassing and phone banking effectiveness.\n\n**Fundraising:**\n- Hold a virtual town hall to engage with online supporters and solicit donations.\n- Reach out to high-net-worth individuals for private fundraising meetings.\n- Monitor and adjust fundraising strategies based on performance data.\n\n**Communications:**\n- Launch a targeted ad campaign on social media platforms.\n- Issue a press release announcing upcoming campaign events and rallies.\n- Coordinate with local influencers to amplify campaign messages.\n\n---\n\n#### **September 15 - 21:**\n\n**Grassroots Operations:**\n- Intensify door-to-door canvassing in key swing neighborhoods.\n- Host community forums to discuss Mayor Breed's policies and future plans.\n- Increase phone banking efforts to reach undecided voters.\n\n**Fundraising:**\n- Plan a major fundraising gala with prominent supporters and donors.\n- Continue online and social media fundraising initiatives.\n- Review and optimize budget allocations for maximum impact.\n\n**Communications:**\n- Publish op-eds in local newspapers highlighting Mayor Breed's accomplishments.\n- Conduct a media blitz with TV and radio interviews.\n- Maintain active engagement on social media with daily updates and interactions.\n\n---\n\n#### **September 22 - 30:**\n\n**Grassroots Operations:**\n- Organize neighborhood block parties to rally support and distribute campaign materials.\n- Launch a voter registration drive to ensure all supporters are registered to vote.\n- Mobilize volunteers for a weekend of intensive canvassing and phone banking.\n\n**Fundraising:**\n- Host a virtual fundraising marathon with continuous live streams and guest speakers.\n- Reach out to previous donors for renewed contributions.\n- Finalize budget plans for the final month of the campaign.\n\n**Communications:**\n- Release a campaign video summarizing Mayor Breed's vision for San Francisco.\n- Coordinate with local media for feature stories on Mayor Breed's impact.\n- Prepare and distribute a campaign newsletter to supporters.\n\n---\n\n#### **October 1 - 7:**\n\n**Grassroots Operations:**\n- Focus on voter persuasion efforts through direct contact and personalized messages.\n- Organize town hall meetings to address key voter concerns.\n- Begin early voting outreach to ensure supporters cast their ballots.\n\n**Fundraising:**\n- Conduct targeted fundraising calls and emails to high-potential donors.\n- Plan a series of small fundraising events across the city.\n- Monitor and adjust fundraising efforts to meet final month targets.\n\n**Communications:**\n- Launch a series of testimonial videos from community leaders endorsing Mayor Breed.\n- Issue a press release highlighting key endorsements and campaign milestones.\n- Maintain a strong social media presence with daily updates and engagement.\n\n---\n\n#### **October 8 - 14:**\n\n**Grassroots Operations:**\n- Intensify efforts in areas with historically low voter turnout.\n- Organize a volunteer appreciation event to boost morale and commitment.\n- Continue early voting outreach and provide transportation for voters if needed.\n\n**Fundraising:**\n- Host a final major fundraising event to secure last-minute contributions.\n- Focus on online fundraising drives with urgency appeals.\n- Ensure all fundraising activities are aligned with campaign goals.\n\n**Communications:**\n- Publish a comprehensive policy plan outlining Mayor Breed's priorities for the next term.\n- Coordinate with local media for a series of in-depth interviews.\n- Continue active engagement on social media with a focus on voter turnout.\n\n---\n\n#### **October 15 - 21:**\n\n**Grassroots Operations:**\n- Conduct a final voter registration push before the deadline.\n- Host rallies and events in key neighborhoods to energize supporters.\n- Mobilize all available volunteers for an intensive canvassing and phone banking effort.\n\n**Fundraising:**\n- Reach out to top donors for final contributions.\n- Continue online fundraising with a focus on small-dollar donations.\n- Review and finalize the campaign budget for the last few weeks.\n\n**Communications:**\n- Release a final campaign ad summarizing Mayor Breed's achievements and vision.\n- Issue a press release highlighting the campaign's momentum and support.\n- Maintain a robust social media presence with a focus on GOTV (Get Out The Vote).\n\n---\n\n#### **October 22 - 31:**\n\n**Grassroots Operations:**\n- Execute a comprehensive GOTV plan, including canvassing, phone banking, and text messaging.\n- Organize election day volunteer training and deployment.\n- Host a series of final rallies and events to energize the base.\n\n**Fundraising:**\n- Conduct final fundraising efforts to ensure sufficient resources for election day operations.\n- Focus on last-minute online and social media fundraising drives.\n- Ensure all financial resources are allocated effectively for maximum impact.\n\n**Communications:**\n- Launch a final media blitz with TV, radio, and online ads.\n- Issue a press release summarizing the campaign's journey and urging voter turnout.\n- Maintain continuous social media engagement with a focus on GOTV efforts.\n\n---\n\n### **Conclusion:**\nThe last two months of the campaign will be crucial for re-electing Mayor London Breed. By intensifying grassroots operations, ensuring robust fundraising, and maintaining strong communications, we will maximize voter engagement and turnout, leading to a successful re-election campaign."
          },
          "metadata": {}
        }
      ]
    }
  ]
}