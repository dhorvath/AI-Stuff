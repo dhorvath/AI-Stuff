{
  "cells": [
    {
      "cell_type": "markdown",
      "metadata": {
        "id": "view-in-github",
        "colab_type": "text"
      },
      "source": [
        "<a href=\"https://colab.research.google.com/github/dhorvath/AI-Stuff/blob/main/TECH16_LLM_Lecture2_HW_David_Horvath.ipynb\" target=\"_parent\"><img src=\"https://colab.research.google.com/assets/colab-badge.svg\" alt=\"Open In Colab\"/></a>"
      ]
    },
    {
      "cell_type": "markdown",
      "metadata": {
        "id": "L7oBYS4AJHNZ"
      },
      "source": [
        "# Setup"
      ]
    },
    {
      "cell_type": "code",
      "execution_count": null,
      "metadata": {
        "colab": {
          "base_uri": "https://localhost:8080/"
        },
        "id": "jkOUJT_o1X5J",
        "outputId": "728a8d0f-6b4d-4ae7-8b1e-9b1a18bda546"
      },
      "outputs": [
        {
          "name": "stdout",
          "output_type": "stream",
          "text": [
            "Requirement already satisfied: openai in /usr/local/lib/python3.10/dist-packages (1.38.0)\n",
            "Requirement already satisfied: anyio<5,>=3.5.0 in /usr/local/lib/python3.10/dist-packages (from openai) (3.7.1)\n",
            "Requirement already satisfied: distro<2,>=1.7.0 in /usr/lib/python3/dist-packages (from openai) (1.7.0)\n",
            "Requirement already satisfied: httpx<1,>=0.23.0 in /usr/local/lib/python3.10/dist-packages (from openai) (0.27.0)\n",
            "Requirement already satisfied: pydantic<3,>=1.9.0 in /usr/local/lib/python3.10/dist-packages (from openai) (2.8.2)\n",
            "Requirement already satisfied: sniffio in /usr/local/lib/python3.10/dist-packages (from openai) (1.3.1)\n",
            "Requirement already satisfied: tqdm>4 in /usr/local/lib/python3.10/dist-packages (from openai) (4.66.4)\n",
            "Requirement already satisfied: typing-extensions<5,>=4.7 in /usr/local/lib/python3.10/dist-packages (from openai) (4.12.2)\n",
            "Requirement already satisfied: idna>=2.8 in /usr/local/lib/python3.10/dist-packages (from anyio<5,>=3.5.0->openai) (3.7)\n",
            "Requirement already satisfied: exceptiongroup in /usr/local/lib/python3.10/dist-packages (from anyio<5,>=3.5.0->openai) (1.2.2)\n",
            "Requirement already satisfied: certifi in /usr/local/lib/python3.10/dist-packages (from httpx<1,>=0.23.0->openai) (2024.7.4)\n",
            "Requirement already satisfied: httpcore==1.* in /usr/local/lib/python3.10/dist-packages (from httpx<1,>=0.23.0->openai) (1.0.5)\n",
            "Requirement already satisfied: h11<0.15,>=0.13 in /usr/local/lib/python3.10/dist-packages (from httpcore==1.*->httpx<1,>=0.23.0->openai) (0.14.0)\n",
            "Requirement already satisfied: annotated-types>=0.4.0 in /usr/local/lib/python3.10/dist-packages (from pydantic<3,>=1.9.0->openai) (0.7.0)\n",
            "Requirement already satisfied: pydantic-core==2.20.1 in /usr/local/lib/python3.10/dist-packages (from pydantic<3,>=1.9.0->openai) (2.20.1)\n",
            "Requirement already satisfied: langchain in /usr/local/lib/python3.10/dist-packages (0.2.12)\n",
            "Requirement already satisfied: PyYAML>=5.3 in /usr/local/lib/python3.10/dist-packages (from langchain) (6.0.1)\n",
            "Requirement already satisfied: SQLAlchemy<3,>=1.4 in /usr/local/lib/python3.10/dist-packages (from langchain) (2.0.31)\n",
            "Requirement already satisfied: aiohttp<4.0.0,>=3.8.3 in /usr/local/lib/python3.10/dist-packages (from langchain) (3.9.5)\n",
            "Requirement already satisfied: async-timeout<5.0.0,>=4.0.0 in /usr/local/lib/python3.10/dist-packages (from langchain) (4.0.3)\n",
            "Requirement already satisfied: langchain-core<0.3.0,>=0.2.27 in /usr/local/lib/python3.10/dist-packages (from langchain) (0.2.27)\n",
            "Requirement already satisfied: langchain-text-splitters<0.3.0,>=0.2.0 in /usr/local/lib/python3.10/dist-packages (from langchain) (0.2.2)\n",
            "Requirement already satisfied: langsmith<0.2.0,>=0.1.17 in /usr/local/lib/python3.10/dist-packages (from langchain) (0.1.96)\n",
            "Requirement already satisfied: numpy<2,>=1 in /usr/local/lib/python3.10/dist-packages (from langchain) (1.26.4)\n",
            "Requirement already satisfied: pydantic<3,>=1 in /usr/local/lib/python3.10/dist-packages (from langchain) (2.8.2)\n",
            "Requirement already satisfied: requests<3,>=2 in /usr/local/lib/python3.10/dist-packages (from langchain) (2.31.0)\n",
            "Requirement already satisfied: tenacity!=8.4.0,<9.0.0,>=8.1.0 in /usr/local/lib/python3.10/dist-packages (from langchain) (8.5.0)\n",
            "Requirement already satisfied: aiosignal>=1.1.2 in /usr/local/lib/python3.10/dist-packages (from aiohttp<4.0.0,>=3.8.3->langchain) (1.3.1)\n",
            "Requirement already satisfied: attrs>=17.3.0 in /usr/local/lib/python3.10/dist-packages (from aiohttp<4.0.0,>=3.8.3->langchain) (23.2.0)\n",
            "Requirement already satisfied: frozenlist>=1.1.1 in /usr/local/lib/python3.10/dist-packages (from aiohttp<4.0.0,>=3.8.3->langchain) (1.4.1)\n",
            "Requirement already satisfied: multidict<7.0,>=4.5 in /usr/local/lib/python3.10/dist-packages (from aiohttp<4.0.0,>=3.8.3->langchain) (6.0.5)\n",
            "Requirement already satisfied: yarl<2.0,>=1.0 in /usr/local/lib/python3.10/dist-packages (from aiohttp<4.0.0,>=3.8.3->langchain) (1.9.4)\n",
            "Requirement already satisfied: jsonpatch<2.0,>=1.33 in /usr/local/lib/python3.10/dist-packages (from langchain-core<0.3.0,>=0.2.27->langchain) (1.33)\n",
            "Requirement already satisfied: packaging<25,>=23.2 in /usr/local/lib/python3.10/dist-packages (from langchain-core<0.3.0,>=0.2.27->langchain) (24.1)\n",
            "Requirement already satisfied: typing-extensions>=4.7 in /usr/local/lib/python3.10/dist-packages (from langchain-core<0.3.0,>=0.2.27->langchain) (4.12.2)\n",
            "Requirement already satisfied: orjson<4.0.0,>=3.9.14 in /usr/local/lib/python3.10/dist-packages (from langsmith<0.2.0,>=0.1.17->langchain) (3.10.6)\n",
            "Requirement already satisfied: annotated-types>=0.4.0 in /usr/local/lib/python3.10/dist-packages (from pydantic<3,>=1->langchain) (0.7.0)\n",
            "Requirement already satisfied: pydantic-core==2.20.1 in /usr/local/lib/python3.10/dist-packages (from pydantic<3,>=1->langchain) (2.20.1)\n",
            "Requirement already satisfied: charset-normalizer<4,>=2 in /usr/local/lib/python3.10/dist-packages (from requests<3,>=2->langchain) (3.3.2)\n",
            "Requirement already satisfied: idna<4,>=2.5 in /usr/local/lib/python3.10/dist-packages (from requests<3,>=2->langchain) (3.7)\n",
            "Requirement already satisfied: urllib3<3,>=1.21.1 in /usr/local/lib/python3.10/dist-packages (from requests<3,>=2->langchain) (2.0.7)\n",
            "Requirement already satisfied: certifi>=2017.4.17 in /usr/local/lib/python3.10/dist-packages (from requests<3,>=2->langchain) (2024.7.4)\n",
            "Requirement already satisfied: greenlet!=0.4.17 in /usr/local/lib/python3.10/dist-packages (from SQLAlchemy<3,>=1.4->langchain) (3.0.3)\n",
            "Requirement already satisfied: jsonpointer>=1.9 in /usr/local/lib/python3.10/dist-packages (from jsonpatch<2.0,>=1.33->langchain-core<0.3.0,>=0.2.27->langchain) (3.0.0)\n",
            "Requirement already satisfied: langchain-openai in /usr/local/lib/python3.10/dist-packages (0.1.20)\n",
            "Requirement already satisfied: langchain-core<0.3.0,>=0.2.26 in /usr/local/lib/python3.10/dist-packages (from langchain-openai) (0.2.27)\n",
            "Requirement already satisfied: openai<2.0.0,>=1.32.0 in /usr/local/lib/python3.10/dist-packages (from langchain-openai) (1.38.0)\n",
            "Requirement already satisfied: tiktoken<1,>=0.7 in /usr/local/lib/python3.10/dist-packages (from langchain-openai) (0.7.0)\n",
            "Requirement already satisfied: PyYAML>=5.3 in /usr/local/lib/python3.10/dist-packages (from langchain-core<0.3.0,>=0.2.26->langchain-openai) (6.0.1)\n",
            "Requirement already satisfied: jsonpatch<2.0,>=1.33 in /usr/local/lib/python3.10/dist-packages (from langchain-core<0.3.0,>=0.2.26->langchain-openai) (1.33)\n",
            "Requirement already satisfied: langsmith<0.2.0,>=0.1.75 in /usr/local/lib/python3.10/dist-packages (from langchain-core<0.3.0,>=0.2.26->langchain-openai) (0.1.96)\n",
            "Requirement already satisfied: packaging<25,>=23.2 in /usr/local/lib/python3.10/dist-packages (from langchain-core<0.3.0,>=0.2.26->langchain-openai) (24.1)\n",
            "Requirement already satisfied: pydantic<3,>=1 in /usr/local/lib/python3.10/dist-packages (from langchain-core<0.3.0,>=0.2.26->langchain-openai) (2.8.2)\n",
            "Requirement already satisfied: tenacity!=8.4.0,<9.0.0,>=8.1.0 in /usr/local/lib/python3.10/dist-packages (from langchain-core<0.3.0,>=0.2.26->langchain-openai) (8.5.0)\n",
            "Requirement already satisfied: typing-extensions>=4.7 in /usr/local/lib/python3.10/dist-packages (from langchain-core<0.3.0,>=0.2.26->langchain-openai) (4.12.2)\n",
            "Requirement already satisfied: anyio<5,>=3.5.0 in /usr/local/lib/python3.10/dist-packages (from openai<2.0.0,>=1.32.0->langchain-openai) (3.7.1)\n",
            "Requirement already satisfied: distro<2,>=1.7.0 in /usr/lib/python3/dist-packages (from openai<2.0.0,>=1.32.0->langchain-openai) (1.7.0)\n",
            "Requirement already satisfied: httpx<1,>=0.23.0 in /usr/local/lib/python3.10/dist-packages (from openai<2.0.0,>=1.32.0->langchain-openai) (0.27.0)\n",
            "Requirement already satisfied: sniffio in /usr/local/lib/python3.10/dist-packages (from openai<2.0.0,>=1.32.0->langchain-openai) (1.3.1)\n",
            "Requirement already satisfied: tqdm>4 in /usr/local/lib/python3.10/dist-packages (from openai<2.0.0,>=1.32.0->langchain-openai) (4.66.4)\n",
            "Requirement already satisfied: regex>=2022.1.18 in /usr/local/lib/python3.10/dist-packages (from tiktoken<1,>=0.7->langchain-openai) (2024.5.15)\n",
            "Requirement already satisfied: requests>=2.26.0 in /usr/local/lib/python3.10/dist-packages (from tiktoken<1,>=0.7->langchain-openai) (2.31.0)\n",
            "Requirement already satisfied: idna>=2.8 in /usr/local/lib/python3.10/dist-packages (from anyio<5,>=3.5.0->openai<2.0.0,>=1.32.0->langchain-openai) (3.7)\n",
            "Requirement already satisfied: exceptiongroup in /usr/local/lib/python3.10/dist-packages (from anyio<5,>=3.5.0->openai<2.0.0,>=1.32.0->langchain-openai) (1.2.2)\n",
            "Requirement already satisfied: certifi in /usr/local/lib/python3.10/dist-packages (from httpx<1,>=0.23.0->openai<2.0.0,>=1.32.0->langchain-openai) (2024.7.4)\n",
            "Requirement already satisfied: httpcore==1.* in /usr/local/lib/python3.10/dist-packages (from httpx<1,>=0.23.0->openai<2.0.0,>=1.32.0->langchain-openai) (1.0.5)\n",
            "Requirement already satisfied: h11<0.15,>=0.13 in /usr/local/lib/python3.10/dist-packages (from httpcore==1.*->httpx<1,>=0.23.0->openai<2.0.0,>=1.32.0->langchain-openai) (0.14.0)\n",
            "Requirement already satisfied: jsonpointer>=1.9 in /usr/local/lib/python3.10/dist-packages (from jsonpatch<2.0,>=1.33->langchain-core<0.3.0,>=0.2.26->langchain-openai) (3.0.0)\n",
            "Requirement already satisfied: orjson<4.0.0,>=3.9.14 in /usr/local/lib/python3.10/dist-packages (from langsmith<0.2.0,>=0.1.75->langchain-core<0.3.0,>=0.2.26->langchain-openai) (3.10.6)\n",
            "Requirement already satisfied: annotated-types>=0.4.0 in /usr/local/lib/python3.10/dist-packages (from pydantic<3,>=1->langchain-core<0.3.0,>=0.2.26->langchain-openai) (0.7.0)\n",
            "Requirement already satisfied: pydantic-core==2.20.1 in /usr/local/lib/python3.10/dist-packages (from pydantic<3,>=1->langchain-core<0.3.0,>=0.2.26->langchain-openai) (2.20.1)\n",
            "Requirement already satisfied: charset-normalizer<4,>=2 in /usr/local/lib/python3.10/dist-packages (from requests>=2.26.0->tiktoken<1,>=0.7->langchain-openai) (3.3.2)\n",
            "Requirement already satisfied: urllib3<3,>=1.21.1 in /usr/local/lib/python3.10/dist-packages (from requests>=2.26.0->tiktoken<1,>=0.7->langchain-openai) (2.0.7)\n",
            "Requirement already satisfied: langchain-community in /usr/local/lib/python3.10/dist-packages (0.2.10)\n",
            "Requirement already satisfied: pypdf in /usr/local/lib/python3.10/dist-packages (4.3.1)\n",
            "Requirement already satisfied: langchain-openai in /usr/local/lib/python3.10/dist-packages (0.1.20)\n",
            "Requirement already satisfied: PyYAML>=5.3 in /usr/local/lib/python3.10/dist-packages (from langchain-community) (6.0.1)\n",
            "Requirement already satisfied: SQLAlchemy<3,>=1.4 in /usr/local/lib/python3.10/dist-packages (from langchain-community) (2.0.31)\n",
            "Requirement already satisfied: aiohttp<4.0.0,>=3.8.3 in /usr/local/lib/python3.10/dist-packages (from langchain-community) (3.9.5)\n",
            "Requirement already satisfied: dataclasses-json<0.7,>=0.5.7 in /usr/local/lib/python3.10/dist-packages (from langchain-community) (0.6.7)\n",
            "Requirement already satisfied: langchain<0.3.0,>=0.2.9 in /usr/local/lib/python3.10/dist-packages (from langchain-community) (0.2.12)\n",
            "Requirement already satisfied: langchain-core<0.3.0,>=0.2.23 in /usr/local/lib/python3.10/dist-packages (from langchain-community) (0.2.27)\n",
            "Requirement already satisfied: langsmith<0.2.0,>=0.1.0 in /usr/local/lib/python3.10/dist-packages (from langchain-community) (0.1.96)\n",
            "Requirement already satisfied: numpy<2,>=1 in /usr/local/lib/python3.10/dist-packages (from langchain-community) (1.26.4)\n",
            "Requirement already satisfied: requests<3,>=2 in /usr/local/lib/python3.10/dist-packages (from langchain-community) (2.31.0)\n",
            "Requirement already satisfied: tenacity!=8.4.0,<9.0.0,>=8.1.0 in /usr/local/lib/python3.10/dist-packages (from langchain-community) (8.5.0)\n",
            "Requirement already satisfied: typing_extensions>=4.0 in /usr/local/lib/python3.10/dist-packages (from pypdf) (4.12.2)\n",
            "Requirement already satisfied: openai<2.0.0,>=1.32.0 in /usr/local/lib/python3.10/dist-packages (from langchain-openai) (1.38.0)\n",
            "Requirement already satisfied: tiktoken<1,>=0.7 in /usr/local/lib/python3.10/dist-packages (from langchain-openai) (0.7.0)\n",
            "Requirement already satisfied: aiosignal>=1.1.2 in /usr/local/lib/python3.10/dist-packages (from aiohttp<4.0.0,>=3.8.3->langchain-community) (1.3.1)\n",
            "Requirement already satisfied: attrs>=17.3.0 in /usr/local/lib/python3.10/dist-packages (from aiohttp<4.0.0,>=3.8.3->langchain-community) (23.2.0)\n",
            "Requirement already satisfied: frozenlist>=1.1.1 in /usr/local/lib/python3.10/dist-packages (from aiohttp<4.0.0,>=3.8.3->langchain-community) (1.4.1)\n",
            "Requirement already satisfied: multidict<7.0,>=4.5 in /usr/local/lib/python3.10/dist-packages (from aiohttp<4.0.0,>=3.8.3->langchain-community) (6.0.5)\n",
            "Requirement already satisfied: yarl<2.0,>=1.0 in /usr/local/lib/python3.10/dist-packages (from aiohttp<4.0.0,>=3.8.3->langchain-community) (1.9.4)\n",
            "Requirement already satisfied: async-timeout<5.0,>=4.0 in /usr/local/lib/python3.10/dist-packages (from aiohttp<4.0.0,>=3.8.3->langchain-community) (4.0.3)\n",
            "Requirement already satisfied: marshmallow<4.0.0,>=3.18.0 in /usr/local/lib/python3.10/dist-packages (from dataclasses-json<0.7,>=0.5.7->langchain-community) (3.21.3)\n",
            "Requirement already satisfied: typing-inspect<1,>=0.4.0 in /usr/local/lib/python3.10/dist-packages (from dataclasses-json<0.7,>=0.5.7->langchain-community) (0.9.0)\n",
            "Requirement already satisfied: langchain-text-splitters<0.3.0,>=0.2.0 in /usr/local/lib/python3.10/dist-packages (from langchain<0.3.0,>=0.2.9->langchain-community) (0.2.2)\n",
            "Requirement already satisfied: pydantic<3,>=1 in /usr/local/lib/python3.10/dist-packages (from langchain<0.3.0,>=0.2.9->langchain-community) (2.8.2)\n",
            "Requirement already satisfied: jsonpatch<2.0,>=1.33 in /usr/local/lib/python3.10/dist-packages (from langchain-core<0.3.0,>=0.2.23->langchain-community) (1.33)\n",
            "Requirement already satisfied: packaging<25,>=23.2 in /usr/local/lib/python3.10/dist-packages (from langchain-core<0.3.0,>=0.2.23->langchain-community) (24.1)\n",
            "Requirement already satisfied: orjson<4.0.0,>=3.9.14 in /usr/local/lib/python3.10/dist-packages (from langsmith<0.2.0,>=0.1.0->langchain-community) (3.10.6)\n",
            "Requirement already satisfied: anyio<5,>=3.5.0 in /usr/local/lib/python3.10/dist-packages (from openai<2.0.0,>=1.32.0->langchain-openai) (3.7.1)\n",
            "Requirement already satisfied: distro<2,>=1.7.0 in /usr/lib/python3/dist-packages (from openai<2.0.0,>=1.32.0->langchain-openai) (1.7.0)\n",
            "Requirement already satisfied: httpx<1,>=0.23.0 in /usr/local/lib/python3.10/dist-packages (from openai<2.0.0,>=1.32.0->langchain-openai) (0.27.0)\n",
            "Requirement already satisfied: sniffio in /usr/local/lib/python3.10/dist-packages (from openai<2.0.0,>=1.32.0->langchain-openai) (1.3.1)\n",
            "Requirement already satisfied: tqdm>4 in /usr/local/lib/python3.10/dist-packages (from openai<2.0.0,>=1.32.0->langchain-openai) (4.66.4)\n",
            "Requirement already satisfied: charset-normalizer<4,>=2 in /usr/local/lib/python3.10/dist-packages (from requests<3,>=2->langchain-community) (3.3.2)\n",
            "Requirement already satisfied: idna<4,>=2.5 in /usr/local/lib/python3.10/dist-packages (from requests<3,>=2->langchain-community) (3.7)\n",
            "Requirement already satisfied: urllib3<3,>=1.21.1 in /usr/local/lib/python3.10/dist-packages (from requests<3,>=2->langchain-community) (2.0.7)\n",
            "Requirement already satisfied: certifi>=2017.4.17 in /usr/local/lib/python3.10/dist-packages (from requests<3,>=2->langchain-community) (2024.7.4)\n",
            "Requirement already satisfied: greenlet!=0.4.17 in /usr/local/lib/python3.10/dist-packages (from SQLAlchemy<3,>=1.4->langchain-community) (3.0.3)\n",
            "Requirement already satisfied: regex>=2022.1.18 in /usr/local/lib/python3.10/dist-packages (from tiktoken<1,>=0.7->langchain-openai) (2024.5.15)\n",
            "Requirement already satisfied: exceptiongroup in /usr/local/lib/python3.10/dist-packages (from anyio<5,>=3.5.0->openai<2.0.0,>=1.32.0->langchain-openai) (1.2.2)\n",
            "Requirement already satisfied: httpcore==1.* in /usr/local/lib/python3.10/dist-packages (from httpx<1,>=0.23.0->openai<2.0.0,>=1.32.0->langchain-openai) (1.0.5)\n",
            "Requirement already satisfied: h11<0.15,>=0.13 in /usr/local/lib/python3.10/dist-packages (from httpcore==1.*->httpx<1,>=0.23.0->openai<2.0.0,>=1.32.0->langchain-openai) (0.14.0)\n",
            "Requirement already satisfied: jsonpointer>=1.9 in /usr/local/lib/python3.10/dist-packages (from jsonpatch<2.0,>=1.33->langchain-core<0.3.0,>=0.2.23->langchain-community) (3.0.0)\n",
            "Requirement already satisfied: annotated-types>=0.4.0 in /usr/local/lib/python3.10/dist-packages (from pydantic<3,>=1->langchain<0.3.0,>=0.2.9->langchain-community) (0.7.0)\n",
            "Requirement already satisfied: pydantic-core==2.20.1 in /usr/local/lib/python3.10/dist-packages (from pydantic<3,>=1->langchain<0.3.0,>=0.2.9->langchain-community) (2.20.1)\n",
            "Requirement already satisfied: mypy-extensions>=0.3.0 in /usr/local/lib/python3.10/dist-packages (from typing-inspect<1,>=0.4.0->dataclasses-json<0.7,>=0.5.7->langchain-community) (1.0.0)\n",
            "Collecting textwrap3\n",
            "  Downloading textwrap3-0.9.2-py2.py3-none-any.whl.metadata (4.6 kB)\n",
            "Downloading textwrap3-0.9.2-py2.py3-none-any.whl (12 kB)\n",
            "Installing collected packages: textwrap3\n",
            "Successfully installed textwrap3-0.9.2\n"
          ]
        }
      ],
      "source": [
        "#Installs\n",
        "!pip install openai\n",
        "!pip install langchain\n",
        "!pip install langchain-openai\n",
        "!pip install -U langchain-community pypdf langchain-openai"
      ]
    },
    {
      "cell_type": "code",
      "execution_count": null,
      "metadata": {
        "id": "Ft0dVY1iOLhv"
      },
      "outputs": [],
      "source": [
        "# More setup\n",
        "import os\n",
        "from openai import OpenAI\n",
        "from google.colab import userdata\n",
        "from langchain_openai import ChatOpenAI\n",
        "from langchain.document_loaders import PyPDFLoader\n",
        "from langchain.chains.summarize import load_summarize_chain\n",
        "from langchain_community.document_loaders import WebBaseLoader\n",
        "from langchain.chains.combine_documents.stuff import StuffDocumentsChain\n",
        "from langchain.chains.llm import LLMChain\n",
        "from langchain.prompts import PromptTemplate\n",
        "\n",
        "# API\n",
        "open_ai_key = userdata.get('open_ai_key')\n",
        "client = OpenAI(api_key=open_ai_key)\n",
        "\n",
        "# Environmental variable\n",
        "os.environ[\"USER_AGENT\"] = 'TECH16 Colab'\n",
        "\n",
        "# AI setup\n",
        "llm = ChatOpenAI(temperature=0.1, model_name=\"gpt-4-turbo-preview\", api_key=open_ai_key)"
      ]
    },
    {
      "cell_type": "markdown",
      "metadata": {
        "id": "p6ti4VrlvFWj"
      },
      "source": [
        "# Load document\n"
      ]
    },
    {
      "cell_type": "code",
      "execution_count": null,
      "metadata": {
        "colab": {
          "base_uri": "https://localhost:8080/"
        },
        "id": "rg3xOtPjDwud",
        "outputId": "47675188-c65b-43b3-9419-95ea39b166eb"
      },
      "outputs": [
        {
          "name": "stdout",
          "output_type": "stream",
          "text": [
            "--2024-08-02 18:47:11--  https://www.sf.gov/sites/default/files/2024-05/CSF_Proposed_Budget_Book_June_2024_r8.pdf\n",
            "Resolving www.sf.gov (www.sf.gov)... 3.163.189.32, 3.163.189.111, 3.163.189.119, ...\n",
            "Connecting to www.sf.gov (www.sf.gov)|3.163.189.32|:443... connected.\n",
            "HTTP request sent, awaiting response... 200 OK\n",
            "Length: 8666653 (8.3M) [application/pdf]\n",
            "Saving to: ‘CSF_Proposed_Budget_Book_June_2024_r8.pdf.2’\n",
            "\n",
            "CSF_Proposed_Budget 100%[===================>]   8.26M  --.-KB/s    in 0.07s   \n",
            "\n",
            "2024-08-02 18:47:11 (113 MB/s) - ‘CSF_Proposed_Budget_Book_June_2024_r8.pdf.2’ saved [8666653/8666653]\n",
            "\n"
          ]
        }
      ],
      "source": [
        "# Get a pdf\n",
        "!wget https://www.sf.gov/sites/default/files/2024-05/CSF_Proposed_Budget_Book_June_2024_r8.pdf\n",
        "loader = PyPDFLoader(\"CSF_Proposed_Budget_Book_June_2024_r8.pdf\")\n",
        "pages = loader.load_and_split()"
      ]
    },
    {
      "cell_type": "markdown",
      "metadata": {
        "id": "yTo3fg4vtuwp"
      },
      "source": [
        "# Stuff method\n"
      ]
    },
    {
      "cell_type": "code",
      "execution_count": null,
      "metadata": {
        "colab": {
          "base_uri": "https://localhost:8080/"
        },
        "id": "34HMl-vPvUlM",
        "outputId": "fa33c31d-1512-4bd1-cb8a-0680c2c17096"
      },
      "outputs": [
        {
          "name": "stdout",
          "output_type": "stream",
          "text": [
            "Summary using 'stuff' method:\n",
            "The proposed Fiscal Year (FY) 2024-25 budget for various San Francisco departments reflects the city's commitment to public safety, environmental sustainability, economic vitality, and equitable access to services. The budgets for departments like the Department of Emergency Management, the Environment Department, and the Office of Economic and Workforce Development highlight investments in critical areas such as emergency response, climate action, and economic recovery. These budgets aim to improve the quality of life for all San Franciscans by ensuring efficient government services, fostering a robust economy, and advancing climate protection.\n"
          ]
        }
      ],
      "source": [
        "# Simple summary\n",
        "chain = load_summarize_chain(llm, chain_type=\"stuff\")\n",
        "\n",
        "res = chain.invoke(pages[8:200])\n",
        "stuffSummary = res[\"output_text\"]\n",
        "\n",
        "print(\"SF 2024 Budget Summary using 'stuff' method:\")\n",
        "print(stuffSummary)\n",
        "\n",
        "# Had to limit to summarizing the first half only b/c the pdf was 362 pages"
      ]
    },
    {
      "cell_type": "code",
      "execution_count": null,
      "metadata": {
        "colab": {
          "base_uri": "https://localhost:8080/"
        },
        "id": "x3vTmcPBWXgw",
        "outputId": "1651df03-3179-47e4-e496-7c54f6e0cf5f"
      },
      "outputs": [
        {
          "name": "stdout",
          "output_type": "stream",
          "text": [
            "Bulleted summary using 'stuff' method:\n",
            "- The proposed FY 2024-25 budget for various San Francisco departments reflects adjustments based on operational needs, strategic initiatives, and compliance with state and federal laws. \n",
            "- Key focuses include enhancing public safety, expanding access to early childhood education, improving emergency response times, promoting environmental sustainability, and supporting economic recovery and workforce development.\n",
            "- Investments are being made in infrastructure, technology upgrades, and programs aimed at addressing climate change, housing affordability, and workforce equity.\n",
            "- The budgets also account for the implementation of new state laws, securing state and federal grants for climate projects, and continuing efforts to streamline permitting processes and improve citywide services.\n",
            "- Efforts to promote racial and gender equity, inclusion, and diversity are integrated across departments, with initiatives to support victims of crime, expand childcare subsidies, and provide training and development opportunities for city employees.\n"
          ]
        }
      ],
      "source": [
        "# Bulleted summary\n",
        "\n",
        "# Define prompt\n",
        "prompt_template = \"\"\"Write a concise summary in a maximum of 5 bullets of the following text enclosed within three backticks:\n",
        "```{text}```\n",
        "CONCISE SUMMARY:\"\"\"\n",
        "prompt = PromptTemplate.from_template(prompt_template)\n",
        "\n",
        "# Define LLM chain\n",
        "llm_chain = LLMChain(llm=llm, prompt=prompt)\n",
        "\n",
        "# Define StuffDocuments Chain\n",
        "stuff_chain = StuffDocumentsChain(llm_chain=llm_chain, document_variable_name=\"text\")\n",
        "res = stuff_chain.invoke(pages[8:200])\n",
        "\n",
        "# 07/20/24: tried to summarize all the pages from the document\n",
        "\n",
        "print(\"Bulleted summary using 'stuff' method:\")\n",
        "print(res[\"output_text\"])"
      ]
    },
    {
      "cell_type": "markdown",
      "metadata": {
        "id": "umI1j8Nmt3Jq"
      },
      "source": [
        "# MapReduce method\n",
        "\n"
      ]
    },
    {
      "cell_type": "code",
      "execution_count": null,
      "metadata": {
        "colab": {
          "background_save": true
        },
        "id": "bKIG2OYSjIKj",
        "outputId": "38a4fa09-354b-4967-b00d-3da8df94b3d5"
      },
      "outputs": [
        {
          "name": "stdout",
          "output_type": "stream",
          "text": [
            "Summary using 'map-reduce' method:\n",
            "The Mayor of San Francisco has proposed budgets for fiscal years 2024-25 and 2025-26, with totals of $15.9 billion and $15.5 billion respectively, to address a budget shortfall while prioritizing workforce enhancement, public safety, and economic vitality. Despite facing a General Fund deficit, the city aims to balance the budget through expense reductions, fee increases, and one-time revenue sources. Key investments include competitive employee compensation, public safety improvements, support for families, homelessness reduction, and economic revitalization efforts focusing on business, tourism, arts, and culture. The budget plans also feature expansions in childcare subsidies, increased shelter capacity, and housing solutions for the homeless, alongside maintaining essential services. Funding adjustments are outlined for various city departments and initiatives, such as the Adult Probation Department, San Francisco Airport, and the Arts Commission, to support their operations and strategic goals. The budgeting process involves collaboration among city departments, the Mayor's Office, the Board of Supervisors, and the Controller, with significant emphasis on public input. Additionally, the document highlights financial and operational plans for different departments, noting adjustments in funding and initiatives aimed at financial development, crime reduction, early childhood care expansion, economic revitalization, equitable voting access, improved emergency response times, and significant investment in the city's Climate Action Plan. The proposed budgets aim for sustainability, inclusivity, and a prosperous future for San Francisco, emphasizing balanced budgets, public safety enhancement, early childhood development support, and fiscal responsibility.\n"
          ]
        }
      ],
      "source": [
        "chain = load_summarize_chain(llm, chain_type=\"map_reduce\")\n",
        "\n",
        "res = chain.invoke(pages[8:200])\n",
        "mapReduceSummary = res[\"output_text\"]\n",
        "\n",
        "print(\"Summary using 'map-reduce' method:\")\n",
        "print(mapReduceSummary)"
      ]
    },
    {
      "cell_type": "markdown",
      "metadata": {
        "id": "WQsB0_LjjZh3"
      },
      "source": [
        "# Comparison"
      ]
    },
    {
      "cell_type": "code",
      "execution_count": 38,
      "metadata": {
        "colab": {
          "base_uri": "https://localhost:8080/"
        },
        "id": "GhJyoLNHjcGx",
        "outputId": "5ecd0adb-8e0a-4777-dd4f-261fcefcc8b0"
      },
      "outputs": [
        {
          "output_type": "stream",
          "name": "stdout",
          "text": [
            "\n",
            "The difference between the 'stuff' summary and the 'map-reduce' summary\n",
            "### Comparison between the 'Stuff Summary' and 'Map Reduce Summary'\n",
            "\n",
            "#### Writing Style:\n",
            "- The **Stuff Summary** utilizes a general and more abstract approach, focusing on the overarching goals and areas of investment without delving into specific figures or detailed plans. It emphasizes the city’s commitment to various sectors but lacks the granularity seen in the second document.\n",
            "- The **Map Reduce Summary**, on the other hand, adopts a detailed and data-driven approach, providing specific budget figures, fiscal strategies, and departmental investments. It also delves into the planning process behind the budget, offering a comprehensive overview that includes stakeholder involvement and strategic objectives.\n",
            "\n",
            "#### Level of Detail:\n",
            "- **Stuff Summary** presents a broad overview without specific financial details or explicit mention of fiscal challenges. It outlines investment areas but stops short of detailing how these areas will be addressed or the specific amounts allocated.\n",
            "- **Map Reduce Summary** is far more detailed, mentioning specific budget totals for two fiscal years, the city’s strategies to address a budget shortfall, and precise areas of investment such as employee compensation, public safety improvements, and support for families. It provides a rich narrative of the city's funding adjustments and strategic priorities across multiple departments.\n",
            "\n",
            "#### Key Takeaways:\n",
            "- The primary focus of the **Stuff Summary** is on the thematic vision of the proposed budget, highlighting themes like public safety, environmental sustainability, and economic vitality without diving into the specifics of how these objectives are to be achieved.\n",
            "- In contrast, the **Map Reduce Summary** offers a deep dive into the budget’s operational and financial intricacies, including the challenges of balancing the budget amidst a deficit and the specific initiatives planned for addressing the city's needs across a wide spectrum of services. It portrays a complex and comprehensive planning process aimed at fiscal responsibility, public safety enhancement, and social welfare improvements.\n",
            "\n",
            "### Conclusion\n",
            "The stark differences between the two documents hinge on their depth of content and presentation style. While the **Stuff Summary** gives readers a taste of the city's priorities in a nutshell, appealing to those interested in a high-level view, the **Map Reduce Summary** serves as a thorough exposition, likely catering to readers seeking a comprehensive understanding of San Francisco's fiscal strategy, including the figures, operational plans, and collaborative efforts behind it.\n"
          ]
        }
      ],
      "source": [
        "differenceResponse = client.chat.completions.create(\n",
        "    model=\"gpt-4-turbo-preview\",\n",
        "    messages=[\n",
        "        {\"role\": \"system\", \"content\": \"The user will give two messages, each representing a document. Refer to the first document as 'stuff summary', and refer to the second as 'map reduce summary'. Compare the documents for important differences and describe these differences, with an emphasis on writing style, level of detail, and key takeaways.\"},\n",
        "        {\"role\": \"user\", \"content\": stuffSummary},\n",
        "        {\"role\": \"user\", \"content\": mapReduceSummary}\n",
        "    ]\n",
        ")\n",
        "print()\n",
        "print(\"The difference between the 'stuff' summary and the 'map-reduce' summary\")\n",
        "print(differenceResponse.choices[0].message.content)"
      ]
    },
    {
      "cell_type": "markdown",
      "metadata": {
        "id": "-xBL4AR-YEER"
      },
      "source": [
        "# Extra Credit - Let's summarize a Youtube video!"
      ]
    },
    {
      "cell_type": "code",
      "execution_count": 42,
      "metadata": {
        "id": "h9zFDXg1YGDq",
        "colab": {
          "base_uri": "https://localhost:8080/"
        },
        "outputId": "f532b7fc-d921-4ef9-9976-f0f794ad912b"
      },
      "outputs": [
        {
          "output_type": "stream",
          "name": "stdout",
          "text": [
            "\u001b[?25l   \u001b[90m━━━━━━━━━━━━━━━━━━━━━━━━━━━━━━━━━━━━━━━━\u001b[0m \u001b[32m0.0/57.6 kB\u001b[0m \u001b[31m?\u001b[0m eta \u001b[36m-:--:--\u001b[0m\r\u001b[2K   \u001b[90m━━━━━━━━━━━━━━━━━━━━━━━━━━━━━━━━━━━━━━━━\u001b[0m \u001b[32m57.6/57.6 kB\u001b[0m \u001b[31m3.1 MB/s\u001b[0m eta \u001b[36m0:00:00\u001b[0m\n",
            "\u001b[?25h"
          ]
        }
      ],
      "source": [
        "# Installs\n",
        "\n",
        "!pip install --upgrade --quiet  youtube-transcript-api\n",
        "!pip install --upgrade --quiet  pytube\n",
        "\n",
        "from langchain_community.document_loaders import YoutubeLoader"
      ]
    },
    {
      "cell_type": "code",
      "source": [
        "# Load a video\n",
        "\n",
        "loader = YoutubeLoader.from_youtube_url(\n",
        "    \"https://www.youtube.com/watch?v=4TMPXK9tw5U\", add_video_info=False\n",
        ")\n",
        "loader.load()"
      ],
      "metadata": {
        "colab": {
          "base_uri": "https://localhost:8080/"
        },
        "id": "6nitWfHessDd",
        "outputId": "01ec1d77-02d1-46ce-d157-8f623f11f19d"
      },
      "execution_count": 41,
      "outputs": [
        {
          "output_type": "execute_result",
          "data": {
            "text/plain": [
              "[Document(metadata={'source': '4TMPXK9tw5U'}, page_content=\"Transcriber: Norhan Eliwa\\nReviewer: Sadegh Vahdati Nia By providing space for constant evolution, we can all transform how we view ourselves\\nand the world around us. Bear with me, everybody. I'm going to\\nstart off today on a little bit of a heavy note, but I promise\\nthings will lighten up. The dots on this screen represent\\nan adult life in months, assuming a life expectancy of 90. So if you're 18 years old right now, this is an optimistic estimate of\\nthe months that you have left. Take a second to take that in. Probably not as many as you would expect. And I’m sorry to say that\\nit does get worse because about a third of that time\\nis going to be spent sleeping. On average, 126 of those months will\\ngo to school in your career. About 18 will be spent driving,\\n36 cooking and eating, 36 doing chores and errands and\\nabout 27 in the bathroom and taking care of personal hygiene. So that leaves you with 334 months, optimistically, for everything else. So this is where you tick the\\nboxes on your bucket list. This is where you pursue your passions and\\ntravel the world and leave your mark. How you spend this time is going to\\ndetermine the quality of your life. But this time isn't just something\\nthat you spend, it’s also something that you invest. Because what you do with it\\nwill quite literally determine the kind of person you become. The body, mind and character\\nthat you will have in the future are being actively shaped by\\nhow you choose to use your time today. So take a second and ask yourself, “What\\ndo you want to do with that free time? What things do you want to\\ndo that you haven't done? Who do you want to spend that time with?\\nWhat is worth investing it in?” Now, I would be willing to bet that\\nscrolling through TikTok, binge watching Netflix, and playing video games\\nprobably did not come to mind. But today, the average 18 year old in the\\nUnited States is on pace to spend 93% of their remaining free\\ntime looking at a screen. That is not counting time for school. So wrap your head around how sad that is. Imagine getting to the age of 90, seeing this visualization of how you spent\\nall your time after the age of 18 and thinking about all the things you\\ncould have done that you did not do because you got distracted. And I also want you to ask yourself, “What do you think over 26 years of\\nscreen time would do to you? What is that an investment in?\\nHow would it change you?” It's well established that there's\\na link between high screen time and mental health issues such\\nas depression and anxiety. But recently we've started to unveil the cognitive consequences of\\nexcessive tech use as well. When we're staring at our screens, we are constantly switching our attention\\nbetween different pieces of information. The average TikTok is about\\n15 seconds long, and over 55% of webpages are viewed\\nfor 15 seconds or less. And if you're switching your attention\\nevery 15 seconds for an average of eight hours\\nand 39 minutes a day, you are training yourself to become\\nchronically distracted. Think about what that will do to your\\ncareer, to your relationships, and to your ability to pursue the\\nthings that matter most to you. Unfortunately, the consequences of screen\\ntime are not limited to our mental health and our cognition. Because every social media\\nplatform carries a message that affects what we believe. They influence the way we see ourselves\\nand the way we see the world purely based on how they are designed. Instagram inherently says that your worth\\nis largely defined by what you look like\\nand what you do on vacations. It compels you to capture all the most\\nmeaningful moments of your life on camera and share them with\\nyour entire social network. And it implicitly says that\\nit's more valuable to have a thousand people that will give you\\ntransient social approval than a few that deeply care about you, \\neven when it’s not your best day. Snapchat inherently says that the quality of our relationships\\nis best measured by the frequency of our communication,\\nregardless of what we're actually saying. You get a point added to\\nyour Snapchat streak, even if you just send a picture\\nof the side of your face with the caption streaks. Twitter says that anything worth saying\\ncan and should be reduced to an arbitrary number of characters. It says that the world\\nis black and white. That it's more important to be\\nupdated about everything, then deeply informed about anything. And when you start to compare\\nthe messages these platforms are sending with those of technologies\\nfrom the past, you begin to get a sense\\nof what we might be losing, because the inherent structure of a book\\nsays that the world is complex and it takes time to understand. It compels us to walk in the\\nshoes of other people and see things from their perspective\\nwith context. And it forces us to focus on one train of\\nthought for an extended period of time, which nurtures our attention. And the letter tells us that our\\ncommunication doesn't need to be frequent. It just needs to be deep. So when you factor all that in, it quickly becomes clear that\\nthe opportunity cost of this screen time is impossible to calculate. And I have never shown this visualization to anyone that actually wants to spend 93% of their remaining free\\ntime staring at a screen. So there is a stark difference between how\\nmuch time we say our screens are worth and how much time\\nwe actually give them. And it is critical to realize that is\\nnot an accident. That is by design. It’s a consequence of a business model, that has incentives which are\\nfundamentally misaligned with your wellbeing. Because you are the product\\nthat social media sells. These services are free because\\nthey are monetizing you. They profit by helping advertisers\\nchange your future behavior, whether that be where you spend your time, how you spend your money or\\neven who you vote for. In order to do that, they\\nhave to do two things. They need to figure out which ads are\\ngoing to influence you by collecting as much data about you\\nas they possibly can. And then they need to show you as\\nmany of those ads as possible. So social media is free because\\nyou pay for it with your time. Their profit is directly linked to how\\nlong they can get you to scroll. And every social media platform is in\\na battle with each other to capture as much of your free time as possible. So let’s run a thought experiment. I want you to ask yourself, how much would you pay for your favorite\\nsocial media platform if it charged you\\na monthly subscription fee? So pick the app that you use the most. And raise your hand if you would\\npay at least $5 a month. Okay.\\nHow about $10 a month? 20? Don't see any hands anymore. Well, let's do a quick calculation to\\nfigure out how much we're effectively paying for an app like TikTok. We'll assume that you value your\\ntime at a rate of $20 per hour and you're spending two hours a day on\\nthe platform or 30 days in a month. So you're effectively paying $1,200\\nper month for TikTok. So when you start to do\\nthis kind of analysis, it quickly becomes clear that most of us are drastically overpaying\\nfor social media. My ask of you is this: Figure out what it means for you to get a good deal out of social media platforms. In order to do that, you\\nhave to do two things: You have to ask yourself, “What value\\ndo these services provide? And second, you have to ask, “How much\\nof your time is that value worth?” Now, I want to be clear that I am not\\nsaying social media is without value. It can be an incredibly powerful tool.\\nIt can foster relationships. It can introduce you to new ideas.\\nIt can even spark social movements. But we need to learn to\\nuse it in moderation. Don't let yourself get to the age of 90, only to look back on your life and realize that while you were\\ntrying to avoid FOMO, you actually missed out on living. That free time\\nis your most valuable resource. Do not give it away for free. Thank you. (Applause)\")]"
            ]
          },
          "metadata": {},
          "execution_count": 41
        }
      ]
    },
    {
      "cell_type": "code",
      "source": [
        "transcript = loader.load()\n",
        "\n",
        "# Define prompt\n",
        "prompt_template = \"\"\"Write a concise summary in a maximum of 5 bullets of the following transcript enclosed within three backticks:\n",
        "```{text}```\n",
        "CONCISE SUMMARY:\"\"\"\n",
        "prompt = PromptTemplate.from_template(prompt_template)\n",
        "\n",
        "# Define LLM chain\n",
        "llm_chain = LLMChain(llm=llm, prompt=prompt)\n",
        "\n",
        "# Define StuffDocuments Chain\n",
        "stuff_chain_youtube = StuffDocumentsChain(llm_chain=llm_chain, document_variable_name=\"text\")\n",
        "res = stuff_chain_youtube.invoke(transcript)\n",
        "\n",
        "print(\"Bulleted YouTube transcript summary using 'stuff' method:\")\n",
        "print(res[\"output_text\"])"
      ],
      "metadata": {
        "colab": {
          "base_uri": "https://localhost:8080/"
        },
        "id": "1fXA3uqpxdzc",
        "outputId": "bef67660-c9c5-446a-cab7-0fffbfef7da6"
      },
      "execution_count": 47,
      "outputs": [
        {
          "output_type": "stream",
          "name": "stdout",
          "text": [
            "Bulleted YouTube transcript summary using 'stuff' method:\n",
            "- The speaker begins by visualizing an adult's life expectancy in months, highlighting the limited amount of free time available after accounting for essential activities like sleeping, schooling, and chores, leaving only 334 months for personal pursuits.\n",
            "- They emphasize the importance of how we choose to spend our free time, as it shapes our future selves, urging the audience to consider what activities are truly worth investing this time in.\n",
            "- The speaker points out the alarming statistic that the average 18-year-old is expected to spend 93% of their remaining free time on screens, not including educational purposes, and discusses the negative impacts of excessive screen time on mental health, cognition, and perception of self-worth.\n",
            "- Social media platforms are criticized for their business models, which prioritize profit over user well-being by monetizing user attention and data, leading to an overconsumption of screen time.\n",
            "- The talk concludes with a call to action for the audience to critically evaluate the true cost of their social media use and to strive for moderation, ensuring that their free time is spent on meaningful activities rather than being consumed by digital distractions.\n"
          ]
        }
      ]
    },
    {
      "cell_type": "code",
      "source": [
        "# Get transcripts as timestamped chunks\n",
        "\n",
        "from langchain_community.document_loaders.youtube import TranscriptFormat\n",
        "\n",
        "loader = YoutubeLoader.from_youtube_url(\n",
        "    \"https://www.youtube.com/watch?v=4TMPXK9tw5U\",\n",
        "    add_video_info=True,\n",
        "    transcript_format=TranscriptFormat.CHUNKS,\n",
        "    chunk_size_seconds=30,\n",
        ")\n",
        "print(\"\\n\\n\".join(map(repr, loader.load())))"
      ],
      "metadata": {
        "colab": {
          "base_uri": "https://localhost:8080/"
        },
        "id": "eN6jkt4MtKQS",
        "outputId": "bd3e1086-669a-4021-ae98-22348b6b4042"
      },
      "execution_count": 43,
      "outputs": [
        {
          "output_type": "stream",
          "name": "stdout",
          "text": [
            "Document(metadata={'source': 'https://www.youtube.com/watch?v=4TMPXK9tw5U&t=0s', 'title': 'The Battle for Your Time: Exposing the Costs of Social Media | Dino Ambrosi | TEDxLagunaBlancaSchool', 'description': 'Unknown', 'view_count': 2066268, 'thumbnail_url': 'https://i.ytimg.com/vi/4TMPXK9tw5U/hq720.jpg', 'publish_date': '2023-03-06 00:00:00', 'length': 691, 'author': 'TEDx Talks', 'start_seconds': 0, 'start_timestamp': '00:00:00'}, page_content=\"Transcriber: Norhan Eliwa\\nReviewer: Sadegh Vahdati Nia By providing space for constant evolution, we can all transform how we view ourselves\\nand the world around us. Bear with me, everybody. I'm going to\\nstart off today on a little bit of a heavy note, but I promise\\nthings will lighten up. The dots on this screen represent\\nan adult life in months, assuming a life expectancy of 90.\")\n",
            "\n",
            "Document(metadata={'source': 'https://www.youtube.com/watch?v=4TMPXK9tw5U&t=30s', 'title': 'The Battle for Your Time: Exposing the Costs of Social Media | Dino Ambrosi | TEDxLagunaBlancaSchool', 'description': 'Unknown', 'view_count': 2066268, 'thumbnail_url': 'https://i.ytimg.com/vi/4TMPXK9tw5U/hq720.jpg', 'publish_date': '2023-03-06 00:00:00', 'length': 691, 'author': 'TEDx Talks', 'start_seconds': 30, 'start_timestamp': '00:00:30'}, page_content=\"So if you're 18 years old right now, this is an optimistic estimate of\\nthe months that you have left. Take a second to take that in. Probably not as many as you would expect. And I’m sorry to say that\\nit does get worse because about a third of that time\\nis going to be spent sleeping.\")\n",
            "\n",
            "Document(metadata={'source': 'https://www.youtube.com/watch?v=4TMPXK9tw5U&t=60s', 'title': 'The Battle for Your Time: Exposing the Costs of Social Media | Dino Ambrosi | TEDxLagunaBlancaSchool', 'description': 'Unknown', 'view_count': 2066268, 'thumbnail_url': 'https://i.ytimg.com/vi/4TMPXK9tw5U/hq720.jpg', 'publish_date': '2023-03-06 00:00:00', 'length': 691, 'author': 'TEDx Talks', 'start_seconds': 60, 'start_timestamp': '00:01:00'}, page_content='On average, 126 of those months will\\ngo to school in your career. About 18 will be spent driving,\\n36 cooking and eating, 36 doing chores and errands and\\nabout 27 in the bathroom and taking care of personal hygiene. So that leaves you with 334 months, optimistically, for everything else.')\n",
            "\n",
            "Document(metadata={'source': 'https://www.youtube.com/watch?v=4TMPXK9tw5U&t=90s', 'title': 'The Battle for Your Time: Exposing the Costs of Social Media | Dino Ambrosi | TEDxLagunaBlancaSchool', 'description': 'Unknown', 'view_count': 2066268, 'thumbnail_url': 'https://i.ytimg.com/vi/4TMPXK9tw5U/hq720.jpg', 'publish_date': '2023-03-06 00:00:00', 'length': 691, 'author': 'TEDx Talks', 'start_seconds': 90, 'start_timestamp': '00:01:30'}, page_content=\"So this is where you tick the\\nboxes on your bucket list. This is where you pursue your passions and\\ntravel the world and leave your mark. How you spend this time is going to\\ndetermine the quality of your life. But this time isn't just something\\nthat you spend, it’s also something that you invest.\")\n",
            "\n",
            "Document(metadata={'source': 'https://www.youtube.com/watch?v=4TMPXK9tw5U&t=120s', 'title': 'The Battle for Your Time: Exposing the Costs of Social Media | Dino Ambrosi | TEDxLagunaBlancaSchool', 'description': 'Unknown', 'view_count': 2066268, 'thumbnail_url': 'https://i.ytimg.com/vi/4TMPXK9tw5U/hq720.jpg', 'publish_date': '2023-03-06 00:00:00', 'length': 691, 'author': 'TEDx Talks', 'start_seconds': 120, 'start_timestamp': '00:02:00'}, page_content=\"Because what you do with it\\nwill quite literally determine the kind of person you become. The body, mind and character\\nthat you will have in the future are being actively shaped by\\nhow you choose to use your time today. So take a second and ask yourself, “What\\ndo you want to do with that free time? What things do you want to\\ndo that you haven't done?\")\n",
            "\n",
            "Document(metadata={'source': 'https://www.youtube.com/watch?v=4TMPXK9tw5U&t=150s', 'title': 'The Battle for Your Time: Exposing the Costs of Social Media | Dino Ambrosi | TEDxLagunaBlancaSchool', 'description': 'Unknown', 'view_count': 2066268, 'thumbnail_url': 'https://i.ytimg.com/vi/4TMPXK9tw5U/hq720.jpg', 'publish_date': '2023-03-06 00:00:00', 'length': 691, 'author': 'TEDx Talks', 'start_seconds': 150, 'start_timestamp': '00:02:30'}, page_content='Who do you want to spend that time with?\\nWhat is worth investing it in?” Now, I would be willing to bet that\\nscrolling through TikTok, binge watching Netflix, and playing video games\\nprobably did not come to mind. But today, the average 18 year old in the\\nUnited States is on pace to spend')\n",
            "\n",
            "Document(metadata={'source': 'https://www.youtube.com/watch?v=4TMPXK9tw5U&t=180s', 'title': 'The Battle for Your Time: Exposing the Costs of Social Media | Dino Ambrosi | TEDxLagunaBlancaSchool', 'description': 'Unknown', 'view_count': 2066268, 'thumbnail_url': 'https://i.ytimg.com/vi/4TMPXK9tw5U/hq720.jpg', 'publish_date': '2023-03-06 00:00:00', 'length': 691, 'author': 'TEDx Talks', 'start_seconds': 180, 'start_timestamp': '00:03:00'}, page_content='93% of their remaining free\\ntime looking at a screen. That is not counting time for school. So wrap your head around how sad that is. Imagine getting to the age of 90, seeing this visualization of how you spent\\nall your time after the age of 18')\n",
            "\n",
            "Document(metadata={'source': 'https://www.youtube.com/watch?v=4TMPXK9tw5U&t=210s', 'title': 'The Battle for Your Time: Exposing the Costs of Social Media | Dino Ambrosi | TEDxLagunaBlancaSchool', 'description': 'Unknown', 'view_count': 2066268, 'thumbnail_url': 'https://i.ytimg.com/vi/4TMPXK9tw5U/hq720.jpg', 'publish_date': '2023-03-06 00:00:00', 'length': 691, 'author': 'TEDx Talks', 'start_seconds': 210, 'start_timestamp': '00:03:30'}, page_content=\"and thinking about all the things you\\ncould have done that you did not do because you got distracted. And I also want you to ask yourself, “What do you think over 26 years of\\nscreen time would do to you? What is that an investment in?\\nHow would it change you?” It's well established that there's\\na link between high screen time\")\n",
            "\n",
            "Document(metadata={'source': 'https://www.youtube.com/watch?v=4TMPXK9tw5U&t=240s', 'title': 'The Battle for Your Time: Exposing the Costs of Social Media | Dino Ambrosi | TEDxLagunaBlancaSchool', 'description': 'Unknown', 'view_count': 2066268, 'thumbnail_url': 'https://i.ytimg.com/vi/4TMPXK9tw5U/hq720.jpg', 'publish_date': '2023-03-06 00:00:00', 'length': 691, 'author': 'TEDx Talks', 'start_seconds': 240, 'start_timestamp': '00:04:00'}, page_content=\"and mental health issues such\\nas depression and anxiety. But recently we've started to unveil the cognitive consequences of\\nexcessive tech use as well. When we're staring at our screens, we are constantly switching our attention\\nbetween different pieces of information. The average TikTok is about\\n15 seconds long, and over 55% of webpages are viewed\\nfor 15 seconds or less.\")\n",
            "\n",
            "Document(metadata={'source': 'https://www.youtube.com/watch?v=4TMPXK9tw5U&t=270s', 'title': 'The Battle for Your Time: Exposing the Costs of Social Media | Dino Ambrosi | TEDxLagunaBlancaSchool', 'description': 'Unknown', 'view_count': 2066268, 'thumbnail_url': 'https://i.ytimg.com/vi/4TMPXK9tw5U/hq720.jpg', 'publish_date': '2023-03-06 00:00:00', 'length': 691, 'author': 'TEDx Talks', 'start_seconds': 270, 'start_timestamp': '00:04:30'}, page_content=\"And if you're switching your attention\\nevery 15 seconds for an average of eight hours\\nand 39 minutes a day, you are training yourself to become\\nchronically distracted. Think about what that will do to your\\ncareer, to your relationships, and to your ability to pursue the\\nthings that matter most to you. Unfortunately, the consequences of screen\\ntime are not limited\")\n",
            "\n",
            "Document(metadata={'source': 'https://www.youtube.com/watch?v=4TMPXK9tw5U&t=300s', 'title': 'The Battle for Your Time: Exposing the Costs of Social Media | Dino Ambrosi | TEDxLagunaBlancaSchool', 'description': 'Unknown', 'view_count': 2066268, 'thumbnail_url': 'https://i.ytimg.com/vi/4TMPXK9tw5U/hq720.jpg', 'publish_date': '2023-03-06 00:00:00', 'length': 691, 'author': 'TEDx Talks', 'start_seconds': 300, 'start_timestamp': '00:05:00'}, page_content='to our mental health and our cognition. Because every social media\\nplatform carries a message that affects what we believe. They influence the way we see ourselves\\nand the way we see the world purely based on how they are designed. Instagram inherently says that your worth\\nis largely defined by what you look like\\nand what you do on vacations.')\n",
            "\n",
            "Document(metadata={'source': 'https://www.youtube.com/watch?v=4TMPXK9tw5U&t=330s', 'title': 'The Battle for Your Time: Exposing the Costs of Social Media | Dino Ambrosi | TEDxLagunaBlancaSchool', 'description': 'Unknown', 'view_count': 2066268, 'thumbnail_url': 'https://i.ytimg.com/vi/4TMPXK9tw5U/hq720.jpg', 'publish_date': '2023-03-06 00:00:00', 'length': 691, 'author': 'TEDx Talks', 'start_seconds': 330, 'start_timestamp': '00:05:30'}, page_content=\"It compels you to capture all the most\\nmeaningful moments of your life on camera and share them with\\nyour entire social network. And it implicitly says that\\nit's more valuable to have a thousand people that will give you\\ntransient social approval than a few that deeply care about you, \\neven when it’s not your best day. Snapchat inherently says that\")\n",
            "\n",
            "Document(metadata={'source': 'https://www.youtube.com/watch?v=4TMPXK9tw5U&t=360s', 'title': 'The Battle for Your Time: Exposing the Costs of Social Media | Dino Ambrosi | TEDxLagunaBlancaSchool', 'description': 'Unknown', 'view_count': 2066268, 'thumbnail_url': 'https://i.ytimg.com/vi/4TMPXK9tw5U/hq720.jpg', 'publish_date': '2023-03-06 00:00:00', 'length': 691, 'author': 'TEDx Talks', 'start_seconds': 360, 'start_timestamp': '00:06:00'}, page_content=\"the quality of our relationships\\nis best measured by the frequency of our communication,\\nregardless of what we're actually saying. You get a point added to\\nyour Snapchat streak, even if you just send a picture\\nof the side of your face with the caption streaks. Twitter says that anything worth saying\\ncan and should be reduced to an arbitrary number of characters. It says that the world\\nis black and white.\")\n",
            "\n",
            "Document(metadata={'source': 'https://www.youtube.com/watch?v=4TMPXK9tw5U&t=390s', 'title': 'The Battle for Your Time: Exposing the Costs of Social Media | Dino Ambrosi | TEDxLagunaBlancaSchool', 'description': 'Unknown', 'view_count': 2066268, 'thumbnail_url': 'https://i.ytimg.com/vi/4TMPXK9tw5U/hq720.jpg', 'publish_date': '2023-03-06 00:00:00', 'length': 691, 'author': 'TEDx Talks', 'start_seconds': 390, 'start_timestamp': '00:06:30'}, page_content=\"That it's more important to be\\nupdated about everything, then deeply informed about anything. And when you start to compare\\nthe messages these platforms are sending with those of technologies\\nfrom the past, you begin to get a sense\\nof what we might be losing, because the inherent structure of a book\\nsays that the world is complex and it takes time to understand.\")\n",
            "\n",
            "Document(metadata={'source': 'https://www.youtube.com/watch?v=4TMPXK9tw5U&t=420s', 'title': 'The Battle for Your Time: Exposing the Costs of Social Media | Dino Ambrosi | TEDxLagunaBlancaSchool', 'description': 'Unknown', 'view_count': 2066268, 'thumbnail_url': 'https://i.ytimg.com/vi/4TMPXK9tw5U/hq720.jpg', 'publish_date': '2023-03-06 00:00:00', 'length': 691, 'author': 'TEDx Talks', 'start_seconds': 420, 'start_timestamp': '00:07:00'}, page_content=\"It compels us to walk in the\\nshoes of other people and see things from their perspective\\nwith context. And it forces us to focus on one train of\\nthought for an extended period of time, which nurtures our attention. And the letter tells us that our\\ncommunication doesn't need to be frequent. It just needs to be deep. So when you factor all that in, it quickly becomes clear that\\nthe opportunity cost of this screen time\")\n",
            "\n",
            "Document(metadata={'source': 'https://www.youtube.com/watch?v=4TMPXK9tw5U&t=450s', 'title': 'The Battle for Your Time: Exposing the Costs of Social Media | Dino Ambrosi | TEDxLagunaBlancaSchool', 'description': 'Unknown', 'view_count': 2066268, 'thumbnail_url': 'https://i.ytimg.com/vi/4TMPXK9tw5U/hq720.jpg', 'publish_date': '2023-03-06 00:00:00', 'length': 691, 'author': 'TEDx Talks', 'start_seconds': 450, 'start_timestamp': '00:07:30'}, page_content='is impossible to calculate. And I have never shown this visualization to anyone that actually wants to spend 93% of their remaining free\\ntime staring at a screen. So there is a stark difference between how\\nmuch time we say our screens are worth and how much time\\nwe actually give them. And it is critical to realize that is\\nnot an accident.')\n",
            "\n",
            "Document(metadata={'source': 'https://www.youtube.com/watch?v=4TMPXK9tw5U&t=480s', 'title': 'The Battle for Your Time: Exposing the Costs of Social Media | Dino Ambrosi | TEDxLagunaBlancaSchool', 'description': 'Unknown', 'view_count': 2066268, 'thumbnail_url': 'https://i.ytimg.com/vi/4TMPXK9tw5U/hq720.jpg', 'publish_date': '2023-03-06 00:00:00', 'length': 691, 'author': 'TEDx Talks', 'start_seconds': 480, 'start_timestamp': '00:08:00'}, page_content='That is by design. It’s a consequence of a business model, that has incentives which are\\nfundamentally misaligned with your wellbeing. Because you are the product\\nthat social media sells. These services are free because\\nthey are monetizing you. They profit by helping advertisers\\nchange your future behavior,')\n",
            "\n",
            "Document(metadata={'source': 'https://www.youtube.com/watch?v=4TMPXK9tw5U&t=510s', 'title': 'The Battle for Your Time: Exposing the Costs of Social Media | Dino Ambrosi | TEDxLagunaBlancaSchool', 'description': 'Unknown', 'view_count': 2066268, 'thumbnail_url': 'https://i.ytimg.com/vi/4TMPXK9tw5U/hq720.jpg', 'publish_date': '2023-03-06 00:00:00', 'length': 691, 'author': 'TEDx Talks', 'start_seconds': 510, 'start_timestamp': '00:08:30'}, page_content='whether that be where you spend your time, how you spend your money or\\neven who you vote for. In order to do that, they\\nhave to do two things. They need to figure out which ads are\\ngoing to influence you by collecting as much data about you\\nas they possibly can. And then they need to show you as\\nmany of those ads as possible. So social media is free because\\nyou pay for it with your time.')\n",
            "\n",
            "Document(metadata={'source': 'https://www.youtube.com/watch?v=4TMPXK9tw5U&t=540s', 'title': 'The Battle for Your Time: Exposing the Costs of Social Media | Dino Ambrosi | TEDxLagunaBlancaSchool', 'description': 'Unknown', 'view_count': 2066268, 'thumbnail_url': 'https://i.ytimg.com/vi/4TMPXK9tw5U/hq720.jpg', 'publish_date': '2023-03-06 00:00:00', 'length': 691, 'author': 'TEDx Talks', 'start_seconds': 540, 'start_timestamp': '00:09:00'}, page_content='Their profit is directly linked to how\\nlong they can get you to scroll. And every social media platform is in\\na battle with each other to capture as much of your free time as possible. So let’s run a thought experiment. I want you to ask yourself, how much would you pay for your favorite\\nsocial media platform if it charged you\\na monthly subscription fee?')\n",
            "\n",
            "Document(metadata={'source': 'https://www.youtube.com/watch?v=4TMPXK9tw5U&t=570s', 'title': 'The Battle for Your Time: Exposing the Costs of Social Media | Dino Ambrosi | TEDxLagunaBlancaSchool', 'description': 'Unknown', 'view_count': 2066268, 'thumbnail_url': 'https://i.ytimg.com/vi/4TMPXK9tw5U/hq720.jpg', 'publish_date': '2023-03-06 00:00:00', 'length': 691, 'author': 'TEDx Talks', 'start_seconds': 570, 'start_timestamp': '00:09:30'}, page_content=\"So pick the app that you use the most. And raise your hand if you would\\npay at least $5 a month. Okay.\\nHow about $10 a month? 20? Don't see any hands anymore. Well, let's do a quick calculation to\\nfigure out how much we're effectively paying for an app like TikTok. We'll assume that you value your\\ntime at a rate of $20 per hour\")\n",
            "\n",
            "Document(metadata={'source': 'https://www.youtube.com/watch?v=4TMPXK9tw5U&t=600s', 'title': 'The Battle for Your Time: Exposing the Costs of Social Media | Dino Ambrosi | TEDxLagunaBlancaSchool', 'description': 'Unknown', 'view_count': 2066268, 'thumbnail_url': 'https://i.ytimg.com/vi/4TMPXK9tw5U/hq720.jpg', 'publish_date': '2023-03-06 00:00:00', 'length': 691, 'author': 'TEDx Talks', 'start_seconds': 600, 'start_timestamp': '00:10:00'}, page_content=\"and you're spending two hours a day on\\nthe platform or 30 days in a month. So you're effectively paying $1,200\\nper month for TikTok. So when you start to do\\nthis kind of analysis, it quickly becomes clear that most of us are drastically overpaying\\nfor social media. My ask of you is this: Figure out what it means for you to get\")\n",
            "\n",
            "Document(metadata={'source': 'https://www.youtube.com/watch?v=4TMPXK9tw5U&t=630s', 'title': 'The Battle for Your Time: Exposing the Costs of Social Media | Dino Ambrosi | TEDxLagunaBlancaSchool', 'description': 'Unknown', 'view_count': 2066268, 'thumbnail_url': 'https://i.ytimg.com/vi/4TMPXK9tw5U/hq720.jpg', 'publish_date': '2023-03-06 00:00:00', 'length': 691, 'author': 'TEDx Talks', 'start_seconds': 630, 'start_timestamp': '00:10:30'}, page_content='a good deal out of social media platforms. In order to do that, you\\nhave to do two things: You have to ask yourself, “What value\\ndo these services provide? And second, you have to ask, “How much\\nof your time is that value worth?” Now, I want to be clear that I am not\\nsaying social media is without value. It can be an incredibly powerful tool.\\nIt can foster relationships. It can introduce you to new ideas.\\nIt can even spark social movements.')\n",
            "\n",
            "Document(metadata={'source': 'https://www.youtube.com/watch?v=4TMPXK9tw5U&t=660s', 'title': 'The Battle for Your Time: Exposing the Costs of Social Media | Dino Ambrosi | TEDxLagunaBlancaSchool', 'description': 'Unknown', 'view_count': 2066268, 'thumbnail_url': 'https://i.ytimg.com/vi/4TMPXK9tw5U/hq720.jpg', 'publish_date': '2023-03-06 00:00:00', 'length': 691, 'author': 'TEDx Talks', 'start_seconds': 660, 'start_timestamp': '00:11:00'}, page_content=\"But we need to learn to\\nuse it in moderation. Don't let yourself get to the age of 90, only to look back on your life and realize that while you were\\ntrying to avoid FOMO, you actually missed out on living. That free time\\nis your most valuable resource. Do not give it away for free. Thank you. (Applause)\")\n"
          ]
        }
      ]
    },
    {
      "cell_type": "code",
      "source": [],
      "metadata": {
        "id": "JmcN3nJRtKE2"
      },
      "execution_count": null,
      "outputs": []
    }
  ],
  "metadata": {
    "colab": {
      "provenance": [],
      "include_colab_link": true
    },
    "kernelspec": {
      "display_name": "Python 3",
      "name": "python3"
    },
    "language_info": {
      "name": "python"
    }
  },
  "nbformat": 4,
  "nbformat_minor": 0
}