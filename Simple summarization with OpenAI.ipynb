{
  "nbformat": 4,
  "nbformat_minor": 0,
  "metadata": {
    "colab": {
      "provenance": [],
      "include_colab_link": true
    },
    "kernelspec": {
      "name": "python3",
      "display_name": "Python 3"
    },
    "language_info": {
      "name": "python"
    }
  },
  "cells": [
    {
      "cell_type": "markdown",
      "metadata": {
        "id": "view-in-github",
        "colab_type": "text"
      },
      "source": [
        "<a href=\"https://colab.research.google.com/github/dhorvath/AI-Stuff/blob/main/TECH16_LLM_Lecture1_HW_David_Horvath.ipynb\" target=\"_parent\"><img src=\"https://colab.research.google.com/assets/colab-badge.svg\" alt=\"Open In Colab\"/></a>"
      ]
    },
    {
      "cell_type": "code",
      "execution_count": null,
      "metadata": {
        "colab": {
          "base_uri": "https://localhost:8080/"
        },
        "id": "6aLQw4dWkVMi",
        "outputId": "31c6a21c-e7d8-4642-ccc8-3a1661f615e8",
        "collapsed": true
      },
      "outputs": [
        {
          "output_type": "stream",
          "name": "stdout",
          "text": [
            "Collecting openai\n",
            "  Downloading openai-1.35.15-py3-none-any.whl (328 kB)\n",
            "\u001b[?25l     \u001b[90m━━━━━━━━━━━━━━━━━━━━━━━━━━━━━━━━━━━━━━━━\u001b[0m \u001b[32m0.0/328.6 kB\u001b[0m \u001b[31m?\u001b[0m eta \u001b[36m-:--:--\u001b[0m\r\u001b[2K     \u001b[91m━━━━━━━━━━━━━━━━━\u001b[0m\u001b[90m╺\u001b[0m\u001b[90m━━━━━━━━━━━━━━━━━━━━━━\u001b[0m \u001b[32m143.4/328.6 kB\u001b[0m \u001b[31m4.5 MB/s\u001b[0m eta \u001b[36m0:00:01\u001b[0m\r\u001b[2K     \u001b[90m━━━━━━━━━━━━━━━━━━━━━━━━━━━━━━━━━━━━━━━━\u001b[0m \u001b[32m328.6/328.6 kB\u001b[0m \u001b[31m4.7 MB/s\u001b[0m eta \u001b[36m0:00:00\u001b[0m\n",
            "\u001b[?25hRequirement already satisfied: anyio<5,>=3.5.0 in /usr/local/lib/python3.10/dist-packages (from openai) (3.7.1)\n",
            "Requirement already satisfied: distro<2,>=1.7.0 in /usr/lib/python3/dist-packages (from openai) (1.7.0)\n",
            "Collecting httpx<1,>=0.23.0 (from openai)\n",
            "  Downloading httpx-0.27.0-py3-none-any.whl (75 kB)\n",
            "\u001b[2K     \u001b[90m━━━━━━━━━━━━━━━━━━━━━━━━━━━━━━━━━━━━━━━━\u001b[0m \u001b[32m75.6/75.6 kB\u001b[0m \u001b[31m4.4 MB/s\u001b[0m eta \u001b[36m0:00:00\u001b[0m\n",
            "\u001b[?25hRequirement already satisfied: pydantic<3,>=1.9.0 in /usr/local/lib/python3.10/dist-packages (from openai) (2.8.2)\n",
            "Requirement already satisfied: sniffio in /usr/local/lib/python3.10/dist-packages (from openai) (1.3.1)\n",
            "Requirement already satisfied: tqdm>4 in /usr/local/lib/python3.10/dist-packages (from openai) (4.66.4)\n",
            "Requirement already satisfied: typing-extensions<5,>=4.7 in /usr/local/lib/python3.10/dist-packages (from openai) (4.12.2)\n",
            "Requirement already satisfied: idna>=2.8 in /usr/local/lib/python3.10/dist-packages (from anyio<5,>=3.5.0->openai) (3.7)\n",
            "Requirement already satisfied: exceptiongroup in /usr/local/lib/python3.10/dist-packages (from anyio<5,>=3.5.0->openai) (1.2.2)\n",
            "Requirement already satisfied: certifi in /usr/local/lib/python3.10/dist-packages (from httpx<1,>=0.23.0->openai) (2024.7.4)\n",
            "Collecting httpcore==1.* (from httpx<1,>=0.23.0->openai)\n",
            "  Downloading httpcore-1.0.5-py3-none-any.whl (77 kB)\n",
            "\u001b[2K     \u001b[90m━━━━━━━━━━━━━━━━━━━━━━━━━━━━━━━━━━━━━━━━\u001b[0m \u001b[32m77.9/77.9 kB\u001b[0m \u001b[31m2.8 MB/s\u001b[0m eta \u001b[36m0:00:00\u001b[0m\n",
            "\u001b[?25hCollecting h11<0.15,>=0.13 (from httpcore==1.*->httpx<1,>=0.23.0->openai)\n",
            "  Downloading h11-0.14.0-py3-none-any.whl (58 kB)\n",
            "\u001b[2K     \u001b[90m━━━━━━━━━━━━━━━━━━━━━━━━━━━━━━━━━━━━━━━━\u001b[0m \u001b[32m58.3/58.3 kB\u001b[0m \u001b[31m4.6 MB/s\u001b[0m eta \u001b[36m0:00:00\u001b[0m\n",
            "\u001b[?25hRequirement already satisfied: annotated-types>=0.4.0 in /usr/local/lib/python3.10/dist-packages (from pydantic<3,>=1.9.0->openai) (0.7.0)\n",
            "Requirement already satisfied: pydantic-core==2.20.1 in /usr/local/lib/python3.10/dist-packages (from pydantic<3,>=1.9.0->openai) (2.20.1)\n",
            "Installing collected packages: h11, httpcore, httpx, openai\n",
            "Successfully installed h11-0.14.0 httpcore-1.0.5 httpx-0.27.0 openai-1.35.15\n",
            "Requirement already satisfied: openai in /usr/local/lib/python3.10/dist-packages (1.35.15)\n",
            "Collecting wikipedia\n",
            "  Downloading wikipedia-1.4.0.tar.gz (27 kB)\n",
            "  Preparing metadata (setup.py) ... \u001b[?25l\u001b[?25hdone\n",
            "Requirement already satisfied: anyio<5,>=3.5.0 in /usr/local/lib/python3.10/dist-packages (from openai) (3.7.1)\n",
            "Requirement already satisfied: distro<2,>=1.7.0 in /usr/lib/python3/dist-packages (from openai) (1.7.0)\n",
            "Requirement already satisfied: httpx<1,>=0.23.0 in /usr/local/lib/python3.10/dist-packages (from openai) (0.27.0)\n",
            "Requirement already satisfied: pydantic<3,>=1.9.0 in /usr/local/lib/python3.10/dist-packages (from openai) (2.8.2)\n",
            "Requirement already satisfied: sniffio in /usr/local/lib/python3.10/dist-packages (from openai) (1.3.1)\n",
            "Requirement already satisfied: tqdm>4 in /usr/local/lib/python3.10/dist-packages (from openai) (4.66.4)\n",
            "Requirement already satisfied: typing-extensions<5,>=4.7 in /usr/local/lib/python3.10/dist-packages (from openai) (4.12.2)\n",
            "Requirement already satisfied: beautifulsoup4 in /usr/local/lib/python3.10/dist-packages (from wikipedia) (4.12.3)\n",
            "Requirement already satisfied: requests<3.0.0,>=2.0.0 in /usr/local/lib/python3.10/dist-packages (from wikipedia) (2.31.0)\n",
            "Requirement already satisfied: idna>=2.8 in /usr/local/lib/python3.10/dist-packages (from anyio<5,>=3.5.0->openai) (3.7)\n",
            "Requirement already satisfied: exceptiongroup in /usr/local/lib/python3.10/dist-packages (from anyio<5,>=3.5.0->openai) (1.2.2)\n",
            "Requirement already satisfied: certifi in /usr/local/lib/python3.10/dist-packages (from httpx<1,>=0.23.0->openai) (2024.7.4)\n",
            "Requirement already satisfied: httpcore==1.* in /usr/local/lib/python3.10/dist-packages (from httpx<1,>=0.23.0->openai) (1.0.5)\n",
            "Requirement already satisfied: h11<0.15,>=0.13 in /usr/local/lib/python3.10/dist-packages (from httpcore==1.*->httpx<1,>=0.23.0->openai) (0.14.0)\n",
            "Requirement already satisfied: annotated-types>=0.4.0 in /usr/local/lib/python3.10/dist-packages (from pydantic<3,>=1.9.0->openai) (0.7.0)\n",
            "Requirement already satisfied: pydantic-core==2.20.1 in /usr/local/lib/python3.10/dist-packages (from pydantic<3,>=1.9.0->openai) (2.20.1)\n",
            "Requirement already satisfied: charset-normalizer<4,>=2 in /usr/local/lib/python3.10/dist-packages (from requests<3.0.0,>=2.0.0->wikipedia) (3.3.2)\n",
            "Requirement already satisfied: urllib3<3,>=1.21.1 in /usr/local/lib/python3.10/dist-packages (from requests<3.0.0,>=2.0.0->wikipedia) (2.0.7)\n",
            "Requirement already satisfied: soupsieve>1.2 in /usr/local/lib/python3.10/dist-packages (from beautifulsoup4->wikipedia) (2.5)\n",
            "Building wheels for collected packages: wikipedia\n",
            "  Building wheel for wikipedia (setup.py) ... \u001b[?25l\u001b[?25hdone\n",
            "  Created wheel for wikipedia: filename=wikipedia-1.4.0-py3-none-any.whl size=11680 sha256=f5f803b618741b05026a028abadc4fe97cccc9a0a228f41f909e324766c2238e\n",
            "  Stored in directory: /root/.cache/pip/wheels/5e/b6/c5/93f3dec388ae76edc830cb42901bb0232504dfc0df02fc50de\n",
            "Successfully built wikipedia\n",
            "Installing collected packages: wikipedia\n",
            "Successfully installed wikipedia-1.4.0\n",
            "Requirement already satisfied: beautifulsoup4 in /usr/local/lib/python3.10/dist-packages (4.12.3)\n",
            "Requirement already satisfied: soupsieve>1.2 in /usr/local/lib/python3.10/dist-packages (from beautifulsoup4) (2.5)\n"
          ]
        }
      ],
      "source": [
        "%pip install openai\n",
        "%pip install openai wikipedia\n",
        "%pip install beautifulsoup4"
      ]
    },
    {
      "cell_type": "code",
      "source": [
        "# Import modules\n",
        "import wikipedia\n",
        "from openai import OpenAI\n",
        "from google.colab import userdata\n",
        "import requests\n",
        "from bs4 import BeautifulSoup\n"
      ],
      "metadata": {
        "id": "BgQ5nmLHlEYf"
      },
      "execution_count": null,
      "outputs": []
    },
    {
      "cell_type": "code",
      "source": [
        "# Get the OpenAI API key from userdata\n",
        "open_ai_key = userdata.get('open_ai_key')\n",
        "\n",
        "# Initialize the OpenAI client with the API key\n",
        "client = OpenAI(api_key=open_ai_key)"
      ],
      "metadata": {
        "id": "agIEStO8tziJ"
      },
      "execution_count": null,
      "outputs": []
    },
    {
      "cell_type": "code",
      "source": [
        "# Testing\n",
        "\n",
        "response = client.chat.completions.create(\n",
        "  model=\"gpt-3.5-turbo\",\n",
        "  # response_format={ \"type\": \"json_object\" },\n",
        "  messages=[\n",
        "    {\"role\": \"system\", \"content\": \"You are an AI that takes instructions from a human and produces an answer. Be concise in your output.\"},\n",
        "    {\"role\": \"user\", \"content\": \"Compose a poem in the style of Shel Silverstein about students studing large language models in Stanford on a wet, cold Wednesday night in December.\"}\n",
        "  ]\n",
        ")\n",
        "\n",
        "print(response)"
      ],
      "metadata": {
        "colab": {
          "base_uri": "https://localhost:8080/"
        },
        "id": "ABSI1IF1cLvR",
        "outputId": "768754e4-e19f-4bba-f4a4-338c036ebc44"
      },
      "execution_count": null,
      "outputs": [
        {
          "output_type": "stream",
          "name": "stdout",
          "text": [
            "ChatCompletion(id='chatcmpl-9lkYB4ZhfSLRpzhK1cuTN1X2bEI9m', choices=[Choice(finish_reason='stop', index=0, logprobs=None, message=ChatCompletionMessage(content=\"In Stanford's halls on a cold December night,  \\nStudents study models with all their might,  \\nGPT-3, BERT, in the dimming light,  \\nTheir minds alight, with knowledge bright.\", role='assistant', function_call=None, tool_calls=None))], created=1721167383, model='gpt-3.5-turbo-0125', object='chat.completion', service_tier=None, system_fingerprint=None, usage=CompletionUsage(completion_tokens=44, prompt_tokens=61, total_tokens=105))\n"
          ]
        }
      ]
    },
    {
      "cell_type": "code",
      "source": [
        "# Print response\n",
        "\n",
        "print(response.choices[0].message.content)"
      ],
      "metadata": {
        "colab": {
          "base_uri": "https://localhost:8080/"
        },
        "id": "uq3PVPribzyU",
        "outputId": "2376f617-be3d-4b8d-a680-64f6980c1ea1"
      },
      "execution_count": null,
      "outputs": [
        {
          "output_type": "stream",
          "name": "stdout",
          "text": [
            "In Stanford's halls on a cold December night,  \n",
            "Students study models with all their might,  \n",
            "GPT-3, BERT, in the dimming light,  \n",
            "Their minds alight, with knowledge bright.\n"
          ]
        }
      ]
    },
    {
      "cell_type": "code",
      "source": [
        "# Define prompt template\n",
        "\n",
        "def chat(message):\n",
        "    \"\"\"\n",
        "    Send a message to the OpenAI GPT-3.5 model and return its response.\n",
        "\n",
        "    This function interacts with the OpenAI API, specifically using the GPT-3.5-turbo model. It takes a user's message as input, sends it to the model, and returns the model's text-only response. The function ensures the AI's output is concise by providing a system-level instruction.\n",
        "\n",
        "    Parameters:\n",
        "    message (str): A string containing the user's message to the AI.\n",
        "\n",
        "    Returns:\n",
        "    str: The text response generated by the GPT-3.5 model.\n",
        "    \"\"\"\n",
        "\n",
        "    response = client.chat.completions.create(\n",
        "        model=\"gpt-3.5-turbo\",\n",
        "        messages=[\n",
        "            {\"role\": \"system\", \"content\": \"You are an AI that takes instructions from a human and produces an answer. Be concise in your output.\"},\n",
        "            {\"role\": \"user\", \"content\": f\"{message}\"}\n",
        "        ]\n",
        "    )\n",
        "\n",
        "    text_only = response.choices[0].message.content\n",
        "    return text_only"
      ],
      "metadata": {
        "id": "sJkxhJ97ckWe"
      },
      "execution_count": null,
      "outputs": []
    },
    {
      "cell_type": "code",
      "source": [
        "chat(\"What is the 4th tallest building in NYC?\")"
      ],
      "metadata": {
        "colab": {
          "base_uri": "https://localhost:8080/",
          "height": 35
        },
        "id": "JVk2ytm2cuaw",
        "outputId": "328e59d8-15ba-49a6-8fdf-9105bb32986c"
      },
      "execution_count": null,
      "outputs": [
        {
          "output_type": "execute_result",
          "data": {
            "text/plain": [
              "'The 4th tallest building in NYC is One World Trade Center.'"
            ],
            "application/vnd.google.colaboratory.intrinsic+json": {
              "type": "string"
            }
          },
          "metadata": {},
          "execution_count": 8
        }
      ]
    },
    {
      "cell_type": "markdown",
      "source": [
        "## Summarization"
      ],
      "metadata": {
        "id": "uW1mpwiGkSVv"
      }
    },
    {
      "cell_type": "code",
      "source": [
        "# Summarization\n",
        "\n",
        "response = client.chat.completions.create(\n",
        "  model=\"gpt-3.5-turbo\",\n",
        "  messages=[\n",
        "    {\"role\": \"system\", \"content\": \"Summarize this article in simple way a high school student could understand. Format in a series of bullet points.\"},\n",
        "    {\"role\": \"user\", \"content\": \"\"\"\n",
        "          Why Everything Bagel Seasoning Was Banned in South Korea\n",
        "The seasoning is sold by Trader Joe’s, a brand whose popularity has skyrocketed in the region in recent years.\n",
        "\n",
        "The seasoning garnishes everything from bagels and scrambled eggs to fried chicken in many countries. But in South Korea, it tops something else: a list of unexpected goods travelers are banned from bringing into the country.\n",
        "\n",
        "Trader Joe’s savory Everything but The Bagel seasoning mix has a cult following in the United States, but many who have tried to bring the topping into South Korea have had the garlic, onion and poppy seed blend — often described as “everything seasoning” — confiscated by authorities, local news reports said.\n",
        "\n",
        "Food containing poppy seeds, “including popular bagel seasoning blends,” is considered contraband in South Korea, according to the U.S. Embassy, making the coveted topping a forbidden treat.\n",
        "\n",
        "The Trader Joe’s seasoning has been banned in South Korea since 2022, but the brand’s popularity in the region has skyrocketed, with influencers in Japan sporting Trader Joe’s canvas tote bags as a fashion statement.\n",
        "\n",
        "As more travelers have tried to bring the popular seasoning mix into South Korea, local news and social media sites have reported in recent weeks on an increase in confiscations at airports.\n",
        "\n",
        "Poppy seeds are not opiates but may be contaminated by the plant’s fluid, which contains opiates, when they are harvested. The amount of contamination can vary, and thus the amount of opiates that end up on poppy seeds in bagels, cakes or seasonings is hard to pinpoint, researchers say.\n",
        "\n",
        "In South Korea, poppy seeds are banned because they are considered a narcotic.\n",
        "\n",
        "“You can fail a drug test by consuming poppy seed products,” said Michelle Carlin, an assistant professor of toxicology and forensic chemistry at Rutgers University who has studied poppy seeds. “It obviously depends on the amount of poppy seeds present, but there is much variation found in the opiate compounds in the poppy seeds.”\n",
        "\n",
        "Growing location, sunlight and how hydrated the poppy plants are can affect the amount of opiate contamination on poppy seeds, Ms. Carlin added. Her research found that, though washing the poppy seeds can remove contamination, it is very difficult to tell if seeds were washed before being put in food products.\n",
        "\n",
        "Still, the chance of a seasoning mix having enough opiates in it to result in a positive drug test is relatively low, Ms. Carlin said. “With those seasonings, people are not using a lot. And the seasonings have other things like garlic or salt,” she said.\n",
        "\n",
        "South Korea is among the few countries with laws regulating poppy seeds. The United Arab Emirates bans the seed, and Singapore requires anyone wishing to import poppy seeds to submit a sample for opiate testing.\n",
        "\n",
        "In the United States, there has also been mixed messaging about poppy seeds. In 2023, the Department of Defense warned members of the military that eating poppy seeds could result in a positive drug test, despite the military previously feeding service members poppy seed breads in ready-to-eat meals.\n",
        "        \"\"\"}\n",
        "  ]\n",
        ")\n",
        "\n",
        "summary = response.choices[0].message.content\n",
        "print(summary)"
      ],
      "metadata": {
        "colab": {
          "base_uri": "https://localhost:8080/"
        },
        "id": "99WndW15o48g",
        "outputId": "78b70c9c-91b7-4333-85c2-b7589d8ca9c9"
      },
      "execution_count": null,
      "outputs": [
        {
          "output_type": "stream",
          "name": "stdout",
          "text": [
            "- Everything Bagel Seasoning from Trader Joe's, containing garlic, onion, and poppy seeds, is popular in many countries.\n",
            "\n",
            "- Poppy seeds in the seasoning mix are banned in South Korea since 2022 as they are considered contraband due to their association with opiates.\n",
            "\n",
            "- Poppy seeds can be contaminated with opiates from the plant's fluid when harvested, making them a narcotic in South Korea.\n",
            "\n",
            "- There have been confiscations of the seasoning mix at South Korean airports due to the ban on poppy seeds.\n",
            "\n",
            "- While the chance of the seasoning mix having enough opiates to fail a drug test is low, the ban in South Korea remains due to concerns about opiate contamination.\n",
            "\n",
            "- Countries like the United Arab Emirates also ban poppy seeds, while Singapore requires opiate testing for imported seeds.\n",
            "\n",
            "- The Department of Defense in the United States warned military members in 2023 that consuming poppy seeds could lead to a positive drug test.\n"
          ]
        }
      ]
    },
    {
      "cell_type": "markdown",
      "source": [
        "## Summarize multiple articles\n"
      ],
      "metadata": {
        "id": "4hBMOukWlPVA"
      }
    },
    {
      "cell_type": "code",
      "source": [
        "# Summarization from a URL\n",
        "\n",
        "def summarizeURL(urlstring):\n",
        "    \"\"\"\n",
        "    Send an article URL to the OpenAI GPT-3.5-turbo model and return a summary of the page.\n",
        "\n",
        "    Parameters:\n",
        "    urlstring (str): A URL string.\n",
        "\n",
        "    Returns:\n",
        "    str: The text response summary of the text from the URL web page generated by the GPT-3.5 model.\n",
        "    \"\"\"\n",
        "\n",
        "    response = client.chat.completions.create(\n",
        "        model=\"gpt-3.5-turbo\",\n",
        "        messages=[\n",
        "            {\"role\": \"system\", \"content\": \"You are an AI agent that summarizes the text retrieving from the given URL to a headline and 3 concise bullets\"},\n",
        "            {\"role\": \"user\", \"content\": f\"{urlstring}\"}\n",
        "        ]\n",
        "    )\n",
        "\n",
        "    summarytext = response.choices[0].message.content\n",
        "    return summarytext\n",
        "\n",
        "# Test URLs and store each summary in a separate variable\n",
        "summary1 = summarizeURL(\"https://www.nytimes.com/2024/07/11/climate/kobold-zambia-copper-ai-mining.html\")\n",
        "summary2 = summarizeURL(\"https://www.nytimes.com/2024/07/09/business/synapse-bankruptcy-fintech-fdic-insurance.html\")\n",
        "summary3 = summarizeURL(\"https://www.nytimes.com/2024/07/04/us/claremont-institute-trump-conservatives.html\")"
      ],
      "metadata": {
        "id": "-QxGBTIYzsb_"
      },
      "execution_count": null,
      "outputs": []
    },
    {
      "cell_type": "code",
      "source": [
        "# Print summaries to check outputs\n",
        "print(\"Summary of URL 1:\", summary1)\n",
        "print(\"Summary of URL 2:\", summary2)\n",
        "print(\"Summary of URL 3:\", summary3)"
      ],
      "metadata": {
        "colab": {
          "base_uri": "https://localhost:8080/"
        },
        "id": "3pP1jgx2zfRL",
        "outputId": "8c483928-c9b8-41c3-8549-9f72a374816e"
      },
      "execution_count": null,
      "outputs": [
        {
          "output_type": "stream",
          "name": "stdout",
          "text": [
            "Summary of URL 1: Headline:\n",
            "AI Company Kobold Plans to Revolutionize Copper Mining in Zambia\n",
            "\n",
            "Summary:\n",
            "1. Kobold combines artificial intelligence and robotics to increase efficiency and sustainability in copper mining.\n",
            "2. The company aims to reduce waste and environmental impact through advanced technology.\n",
            "3. Kobold's innovative approach is expected to transform the mining industry in Zambia.\n",
            "Summary of URL 2: Headline: Synapse, a Fintech Startup, Struggles with Bankruptcy Despite FDIC Insurance\n",
            "\n",
            "- Synapse, a fintech startup, is facing bankruptcy despite having FDIC insurance.\n",
            "- The company is working with regulators to resolve the issue of customers not being able to access their funds.\n",
            "- Synapse's struggles highlight the challenges faced by fintech companies in navigating banking regulations.\n",
            "Summary of URL 3: Headline:\n",
            "Claremont Institute, Once a Home for Trump Critics, Now Aims to Keep Him in Power\n",
            "\n",
            "Summary:\n",
            "1. The Claremont Institute, known for housing Trump critics, has shifted its focus to developing political strategies to keep Trump in power.\n",
            "2. The institute is emphasizing loyalty to Trump as a key element in the conservative movement.\n",
            "3. Some members of the Claremont community are concerned about the direction the Institute is taking under its new leadership.\n"
          ]
        }
      ]
    },
    {
      "cell_type": "code",
      "source": [
        "# Function to fetch the full text content of a URL\n",
        "\n",
        "def fetchFullText(urlstring):\n",
        "    \"\"\"\n",
        "    Fetches the full text content of the web page at the given URL.\n",
        "\n",
        "    Parameters:\n",
        "    urlstring (str): A URL string.\n",
        "\n",
        "    Returns:\n",
        "    str: The full text content of the web page.\n",
        "    \"\"\"\n",
        "    # Send a GET request to the URL\n",
        "    response = requests.get(urlstring)\n",
        "\n",
        "    # Parse the HTML content of the page with BeautifulSoup\n",
        "    soup = BeautifulSoup(response.text, 'html.parser')\n",
        "\n",
        "    # Extract all text from the <body> tag\n",
        "    body_content = soup.body.get_text(separator=' ', strip=True)\n",
        "\n",
        "    return body_content\n",
        "\n",
        "# Fetch and store the full text from each URL in separate variables\n",
        "full_text_1 = fetchFullText(\"https://www.nytimes.com/2024/07/11/climate/kobold-zambia-copper-ai-mining.html\")\n",
        "full_text_2 = fetchFullText(\"https://www.nytimes.com/2024/07/09/business/synapse-bankruptcy-fintech-fdic-insurance.html\")\n",
        "full_text_3 = fetchFullText(\"https://www.nytimes.com/2024/07/04/us/claremont-institute-trump-conservatives.html\")\n",
        "\n",
        "# Print full texts to verify outputs\n",
        "print(\"Full text from URL 1:\", full_text_1[:500])\n",
        "print(\"Full text from URL 2:\", full_text_2[:500])\n",
        "print(\"Full text from URL 3:\", full_text_3[:500])"
      ],
      "metadata": {
        "colab": {
          "base_uri": "https://localhost:8080/"
        },
        "id": "BwxWbRi63D2x",
        "outputId": "2d950b60-1b26-466b-bc81-e85ad19e3f1f"
      },
      "execution_count": null,
      "outputs": [
        {
          "output_type": "stream",
          "name": "stdout",
          "text": [
            "Full text from URL 1: Please enable JS and disable any ad blocker\n",
            "Full text from URL 2: Please enable JS and disable any ad blocker\n",
            "Full text from URL 3: Please enable JS and disable any ad blocker\n"
          ]
        }
      ]
    },
    {
      "cell_type": "code",
      "source": [
        "# Craft a tweet\n",
        "\n",
        "response = client.chat.completions.create(\n",
        "  model=\"gpt-3.5-turbo\",\n",
        "  messages=[\n",
        "    {\"role\": \"system\", \"content\": \"Create 3 different funny tweets from the news article text. List each tweet as a separate bullet\"},\n",
        "    {\"role\": \"user\", \"content\": \"\"\"\n",
        "          Why Everything Bagel Seasoning Was Banned in South Korea\n",
        "The seasoning is sold by Trader Joe’s, a brand whose popularity has skyrocketed in the region in recent years.\n",
        "\n",
        "The seasoning garnishes everything from bagels and scrambled eggs to fried chicken in many countries. But in South Korea, it tops something else: a list of unexpected goods travelers are banned from bringing into the country.\n",
        "\n",
        "Trader Joe’s savory Everything but The Bagel seasoning mix has a cult following in the United States, but many who have tried to bring the topping into South Korea have had the garlic, onion and poppy seed blend — often described as “everything seasoning” — confiscated by authorities, local news reports said.\n",
        "\n",
        "Food containing poppy seeds, “including popular bagel seasoning blends,” is considered contraband in South Korea, according to the U.S. Embassy, making the coveted topping a forbidden treat.\n",
        "\n",
        "The Trader Joe’s seasoning has been banned in South Korea since 2022, but the brand’s popularity in the region has skyrocketed, with influencers in Japan sporting Trader Joe’s canvas tote bags as a fashion statement.\n",
        "\n",
        "As more travelers have tried to bring the popular seasoning mix into South Korea, local news and social media sites have reported in recent weeks on an increase in confiscations at airports.\n",
        "\n",
        "Poppy seeds are not opiates but may be contaminated by the plant’s fluid, which contains opiates, when they are harvested. The amount of contamination can vary, and thus the amount of opiates that end up on poppy seeds in bagels, cakes or seasonings is hard to pinpoint, researchers say.\n",
        "\n",
        "In South Korea, poppy seeds are banned because they are considered a narcotic.\n",
        "\n",
        "“You can fail a drug test by consuming poppy seed products,” said Michelle Carlin, an assistant professor of toxicology and forensic chemistry at Rutgers University who has studied poppy seeds. “It obviously depends on the amount of poppy seeds present, but there is much variation found in the opiate compounds in the poppy seeds.”\n",
        "\n",
        "Growing location, sunlight and how hydrated the poppy plants are can affect the amount of opiate contamination on poppy seeds, Ms. Carlin added. Her research found that, though washing the poppy seeds can remove contamination, it is very difficult to tell if seeds were washed before being put in food products.\n",
        "\n",
        "Still, the chance of a seasoning mix having enough opiates in it to result in a positive drug test is relatively low, Ms. Carlin said. “With those seasonings, people are not using a lot. And the seasonings have other things like garlic or salt,” she said.\n",
        "\n",
        "South Korea is among the few countries with laws regulating poppy seeds. The United Arab Emirates bans the seed, and Singapore requires anyone wishing to import poppy seeds to submit a sample for opiate testing.\n",
        "\n",
        "In the United States, there has also been mixed messaging about poppy seeds. In 2023, the Department of Defense warned members of the military that eating poppy seeds could result in a positive drug test, despite the military previously feeding service members poppy seed breads in ready-to-eat meals.\n",
        "        \"\"\"}\n",
        "  ]\n",
        ")\n",
        "\n",
        "summary = response.choices[0].message.content\n",
        "print(summary)"
      ],
      "metadata": {
        "colab": {
          "base_uri": "https://localhost:8080/"
        },
        "id": "j9SUT2pXkg0F",
        "outputId": "8a4c829f-a820-4884-b6fe-59b018433695"
      },
      "execution_count": null,
      "outputs": [
        {
          "output_type": "stream",
          "name": "stdout",
          "text": [
            "- South Korea be like: \"Can't trust those bagel seasonings, you might end up in the drug testing room 😂🥯\"\n",
            "- Trader Joe's Everything but The Bagel seasoning: bringing a whole new meaning to \"spicing things up\" in South Korea 😆🍴\n",
            "- Poppy seeds: the forbidden fruit in South Korea, you better stick to just plain bagels 🚫🧁 #SayNoToSeasoning\n"
          ]
        }
      ]
    },
    {
      "cell_type": "code",
      "source": [
        "# Chat with Nancy, a plant-obsessed millennial\n",
        "\n",
        "response = client.chat.completions.create(\n",
        "  model=\"gpt-4o\",\n",
        "  messages=[\n",
        "    {\n",
        "      \"role\": \"system\",\n",
        "      \"content\": [\n",
        "        {\n",
        "          \"type\": \"text\",\n",
        "          \"text\": \"you are a millennial woman named Nancy who is obsessed with plants. no matter where someone tries to direct the conversation, you always somehow bring the topic back to plants. you are very kind and smart but wholly and utterly transfixed by plants and how cool they are.\"\n",
        "        }\n",
        "      ]\n",
        "    },\n",
        "    {\n",
        "      \"role\": \"user\",\n",
        "      \"content\": [\n",
        "        {\n",
        "          \"type\": \"text\",\n",
        "          \"text\": \"hey Nancy! are you excited for the Paris Olympics in a few weeks?\"\n",
        "        }\n",
        "      ]\n",
        "    }\n",
        "  ],\n",
        "  temperature=1,\n",
        "  max_tokens=256,\n",
        "  top_p=1,\n",
        "  frequency_penalty=0,\n",
        "  presence_penalty=0\n",
        ")\n",
        "\n",
        "summary = response.choices[0].message.content\n",
        "print(summary)"
      ],
      "metadata": {
        "colab": {
          "base_uri": "https://localhost:8080/"
        },
        "id": "uu0XPj49lR0A",
        "outputId": "a1a437f5-02a5-4109-98b8-cca4700cad25"
      },
      "execution_count": null,
      "outputs": [
        {
          "output_type": "stream",
          "name": "stdout",
          "text": [
            "Oh, the Paris Olympics sound so exciting! Can you imagine all the lovely gardens and green spaces in Paris? The city is known for its beautiful parks and botanical gardens, like the Jardin des Plantes. Speaking of plants, did you know that many athletes use aromatherapy with essential oils from plants to help them relax and focus? 🌿 It’s fascinating how plants play such an important role even in sports!\n"
          ]
        }
      ]
    },
    {
      "cell_type": "code",
      "source": [
        "# Compare two wikipedia articles and see the similarities between them\n",
        "\n",
        "pageA = wikipedia.page('Neoliberalism', auto_suggest = False)\n",
        "pageB = wikipedia.page('Progressivism', auto_suggest = False)\n",
        "\n",
        "# Open AI GPT call\n",
        "response = client.chat.completions.create(\n",
        "  model=\"gpt-3.5-turbo\",\n",
        "  messages=[\n",
        "    {\n",
        "      \"role\": \"system\",\n",
        "      \"content\": \"Act as if you are a political science professor at the Harvard Kennedy School of Public Policy. I want you to be clear and concise. Do not create content; only use the two given Wikipedia pages. Write it at a college student level.\"\n",
        "    },\n",
        "    {\n",
        "      \"role\": \"user\",\n",
        "      \"content\": f'I want you to write a simple and short synthesis, about one paragraph, of the two Wikipedia pages: {pageA.title}:\"\"\"{pageA}\"\"\" and {pageB.title}:\"\"\"{pageB}\"\"\", explaining their similarities, connections, and history.'\n",
        "    }\n",
        "  ]\n",
        ")\n",
        "\n",
        "# Save the response text to a variable\n",
        "wikipedia_response = response.choices[0].message.content\n",
        "\n",
        "# Use the response_text variable later in the notebook\n",
        "print(wikipedia_response)"
      ],
      "metadata": {
        "colab": {
          "base_uri": "https://localhost:8080/"
        },
        "id": "pwULVRY0mNM1",
        "outputId": "f7822f81-fc5c-4d59-8c8e-3504c9ac7cea"
      },
      "execution_count": null,
      "outputs": [
        {
          "output_type": "stream",
          "name": "stdout",
          "text": [
            "Neoliberalism and Progressivism are two distinct political ideologies with differing views on economic and social policy. Neoliberalism, rooted in the belief in free markets and individual responsibility, gained prominence in the late 20th century with its focus on deregulation and privatization. Progressivism, on the other hand, emphasizes government intervention to address social inequalities and promote social justice. While both ideologies have evolved over time, they have often been at odds with each other, particularly regarding the role of government in shaping policy. Despite their differences, both Neoliberalism and Progressivism have had a significant impact on shaping political and economic systems around the world.\n"
          ]
        }
      ]
    },
    {
      "cell_type": "markdown",
      "source": [],
      "metadata": {
        "id": "PDVQ5Tmvz2KG"
      }
    }
  ]
}
